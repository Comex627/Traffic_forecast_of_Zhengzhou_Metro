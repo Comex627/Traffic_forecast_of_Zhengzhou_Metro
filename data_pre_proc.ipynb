{
 "cells": [
  {
   "cell_type": "code",
   "execution_count": 1,
   "metadata": {},
   "outputs": [],
   "source": [
    "import pandas as pd\n",
    "import os"
   ]
  },
  {
   "cell_type": "code",
   "execution_count": 2,
   "metadata": {},
   "outputs": [],
   "source": [
    "path  = './GuangxiAi_6/'\n",
    "file_list = os.listdir(path)"
   ]
  },
  {
   "cell_type": "code",
   "execution_count": 3,
   "metadata": {},
   "outputs": [
    {
     "name": "stdout",
     "output_type": "stream",
     "text": [
      ".ipynb_checkpoints\n",
      "1_2_3_4_lgb.ipynb\n",
      "1_2_3_4_xgb.ipynb\n",
      "data.csv\n",
      "dataofweek\n",
      "data_pre_pro.py\n",
      "data_pre_proc.ipynb\n",
      "EDA\n",
      "LGB_5.ipynb\n",
      "LGB_6.ipynb\n",
      "LGB_7.ipynb\n",
      "lgb_model.ipynb\n",
      "pic\n",
      "result\n",
      "result2\n",
      "split_data.ipynb\n",
      "xgb_model.ipynb\n",
      "交通赛题介绍.docx\n",
      "交通赛题数据字段注释.xlsx\n"
     ]
    }
   ],
   "source": [
    "for i in file_list:\n",
    "    print(i)"
   ]
  },
  {
   "cell_type": "code",
   "execution_count": null,
   "metadata": {},
   "outputs": [],
   "source": []
  }
 ],
 "metadata": {
  "kernelspec": {
   "display_name": "Python 3",
   "language": "python",
   "name": "python3"
  },
  "language_info": {
   "codemirror_mode": {
    "name": "ipython",
    "version": 3
   },
   "file_extension": ".py",
   "mimetype": "text/x-python",
   "name": "python",
   "nbconvert_exporter": "python",
   "pygments_lexer": "ipython3",
   "version": "3.6.5"
  }
 },
 "nbformat": 4,
 "nbformat_minor": 2
}
