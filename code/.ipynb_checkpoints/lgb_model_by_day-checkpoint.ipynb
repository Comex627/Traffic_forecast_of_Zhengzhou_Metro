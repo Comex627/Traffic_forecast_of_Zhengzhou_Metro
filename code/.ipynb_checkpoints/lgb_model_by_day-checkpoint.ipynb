{
 "cells": [
  {
   "cell_type": "code",
   "execution_count": 1,
   "metadata": {},
   "outputs": [],
   "source": [
    "import pandas as pd\n",
    "pd.options.display.max_columns = None\n",
    "# 671112131516\n",
    "import os\n",
    "import warnings\n",
    "warnings.filterwarnings('ignore')\n",
    "import datetime\n",
    "import numpy as np\n",
    "import lightgbm as lgb\n",
    "from sklearn.preprocessing import LabelEncoder\n",
    "from sklearn.metrics import mean_absolute_error"
   ]
  },
  {
   "cell_type": "code",
   "execution_count": 2,
   "metadata": {},
   "outputs": [],
   "source": [
    "path = '../dataofweek/'"
   ]
  },
  {
   "cell_type": "code",
   "execution_count": 3,
   "metadata": {},
   "outputs": [],
   "source": [
    "#定义评价函数\n",
    "def mean_absolute_percentage_error(y_true, y_pred):\n",
    "    return np.mean(np.abs(y_true - y_pred))"
   ]
  },
  {
   "cell_type": "code",
   "execution_count": 4,
   "metadata": {},
   "outputs": [],
   "source": [
    "#提取base_feature\n",
    "def get_base_feature(df):\n",
    "    df['time'] = df.START_DATE.apply(lambda x:x[:19])\n",
    "    df['time'] = pd.to_datetime(df['time'],format='%Y-%m-%d-%H.%M.%S')\n",
    "    timedelta = df['time'] - pd.datetime(df['time'].dt.year[0],df['time'].dt.month[0],df['time'].dt.day[0],0,0,0)\n",
    "    df['30_min'] = timedelta.dt.seconds/1800\n",
    "    df['30_min'] = df['30_min'].astype(int)\n",
    "    df['20_min'] = timedelta.dt.seconds/1200\n",
    "    df['20_min'] = df['20_min'].astype(int)\n",
    "    df['10_min'] = timedelta.dt.seconds/600\n",
    "    df['10_min'] = df['10_min'].astype(int)\n",
    "    df['5_min'] = timedelta.dt.seconds/300\n",
    "    df['5_min'] = df['5_min'].astype(int)\n",
    "\n",
    "    df['hour'] = df.START_DATE.apply(lambda x:int(x[11:13]))\n",
    "    \n",
    "    df.TRADE_TYPE[df.TRADE_TYPE==21] = 1\n",
    "    df.TRADE_TYPE[df.TRADE_TYPE==22] = 0\n",
    "    \n",
    "    result = df.groupby(['date','TRADE_ADDRESS','INDUSTRY_CODE','CARD_TYPE_EX','CARD_TYPE','SAM_ID','TERMINAL_ID','RECORD_ROW','30_min','20_min','10_min','5_min']).TRADE_TYPE.agg(['count','sum']).reset_index()\n",
    "    result['inNums'] = result['sum']\n",
    "    result['outNums'] = result['count'] - result['sum']\n",
    "    del result['count'],result['sum']\n",
    "    \n",
    "    result.date = pd.to_datetime(result.date)\n",
    "    result['week'] = result.date.dt.dayofweek+1\n",
    "    del df\n",
    "    return result"
   ]
  },
  {
   "cell_type": "code",
   "execution_count": 6,
   "metadata": {},
   "outputs": [],
   "source": [
    "#根据EDA的分析进行数据的读取\n",
    "data_list = ['12','13','14','15','16']\n",
    "data1 = pd.DataFrame()\n",
    "for i in data_list:\n",
    "    file = str(i)+'_week.csv'\n",
    "    df = pd.read_csv(path+file)\n",
    "    data1 = pd.concat([data1,df],axis=0,ignore_index=True)         "
   ]
  },
  {
   "cell_type": "code",
   "execution_count": 7,
   "metadata": {},
   "outputs": [],
   "source": [
    "le = LabelEncoder()"
   ]
  },
  {
   "cell_type": "code",
   "execution_count": 8,
   "metadata": {},
   "outputs": [],
   "source": [
    "data1['TERMINAL_ID'] = le.fit_transform(data1['TERMINAL_ID'].values)"
   ]
  },
  {
   "cell_type": "code",
   "execution_count": 9,
   "metadata": {},
   "outputs": [],
   "source": [
    "data1['SAM_ID'] = le.fit_transform(data1['SAM_ID'].values)"
   ]
  },
  {
   "cell_type": "code",
   "execution_count": 10,
   "metadata": {},
   "outputs": [],
   "source": [
    "prevent = data1.copy()"
   ]
  },
  {
   "cell_type": "code",
   "execution_count": 11,
   "metadata": {},
   "outputs": [],
   "source": [
    "del data1"
   ]
  },
  {
   "cell_type": "code",
   "execution_count": 12,
   "metadata": {},
   "outputs": [],
   "source": [
    "#进一步提取特征\n",
    "def more_feature(result):\n",
    "    tmp = result.copy()\n",
    "\n",
    "    tmp = result.groupby(['TRADE_ADDRESS'], as_index=False)['inNums'].agg({\n",
    "                                                                        'inNums_ID_w_max'    : 'max',\n",
    "                                                                        'inNums_ID_w_min'    : 'min', \n",
    "                                                                        'inNums_ID_w_mean'   : 'mean',\n",
    "                                                                        'inNums_ID_w_sum'   : 'sum'\n",
    "                                                                        })\n",
    "    result = result.merge(tmp, on=['TRADE_ADDRESS'], how='left')\n",
    "\n",
    "    tmp = result.groupby(['TRADE_ADDRESS','week','30_min'], as_index=False)['inNums'].agg({\n",
    "                                                                        'inNums_ID_w_h_3_max'    : 'max',\n",
    "                                                                        'inNums_ID_w_h_3_min'    : 'min', \n",
    "                                                                        'inNums_ID_w_h_3_mean'   : 'mean',\n",
    "                                                                        'inNums_ID_w_h_3_sum'   : 'sum'\n",
    "                                                                        })\n",
    "    result = result.merge(tmp,on=['TRADE_ADDRESS','week','30_min'],how = 'left')\n",
    "    #20\n",
    "    tmp = result.groupby(['TRADE_ADDRESS','week','20_min'], as_index=False)['inNums'].agg({\n",
    "                                                                        'inNums_ID_w_h_2_max'    : 'max',\n",
    "                                                                        'inNums_ID_w_h_2_min'    : 'min', \n",
    "                                                                        'inNums_ID_w_h_2_mean'   : 'mean',\n",
    "                                                                \n",
    "                                                                        })\n",
    "    result = result.merge(tmp,on=['TRADE_ADDRESS','week','20_min'],how = 'left')\n",
    "    \n",
    "    tmp = result.groupby(['TRADE_ADDRESS','week','5_min'], as_index=False)['inNums'].agg({\n",
    "                                                                        'inNums_ID_w_h_5_max'    : 'max',\n",
    "                                                                        'inNums_ID_w_h_5_min'    : 'min', \n",
    "                                                           \n",
    "                                                                        'inNums_ID_w_h_5_sum'   : 'sum'\n",
    "                                                                        })\n",
    "    result = result.merge(tmp,on=['TRADE_ADDRESS','week','5_min'],how = 'left')\n",
    "    \n",
    "    \n",
    "    \n",
    "    ###出站与进站类似\n",
    "\n",
    "    \n",
    "    \n",
    "    tmp = result.groupby(['TRADE_ADDRESS'], as_index=False)['outNums'].agg({\n",
    "                                                                        'outNums_ID_max'    : 'max',\n",
    "                                                                        'outNums_ID_min'    : 'min',\n",
    "                                                                        'outNums_ID_mean'   : 'mean',\n",
    "                                                                        'outNums_ID_sum'   : 'sum'\n",
    "                                                                        })\n",
    "    result = result.merge(tmp, on=['TRADE_ADDRESS'], how='left')\n",
    "    \n",
    "\n",
    "    tmp = result.groupby(['TRADE_ADDRESS','week','30_min'], as_index=False)['outNums'].agg({\n",
    "                                                                       \n",
    "                                                                        'outNums_ID_w_h_3_min'    : 'min', \n",
    "                                                           \n",
    "                                                                      })\n",
    "    result = result.merge(tmp,on=['TRADE_ADDRESS','week','30_min'],how = 'left')\n",
    "\n",
    "    tmp = result.groupby(['TRADE_ADDRESS','week','20_min'], as_index=False)['outNums'].agg({\n",
    "                                                              \n",
    "                                                                        'outNums_ID_w_h_2_min'    : 'min', \n",
    "                                                    \n",
    "                                         \n",
    "                                                                        })\n",
    "    result = result.merge(tmp,on=['TRADE_ADDRESS','week','20_min'],how = 'left')\n",
    "    \n",
    "    tmp = result.groupby(['TRADE_ADDRESS','week','5_min'], as_index=False)['outNums'].agg({\n",
    "                                                  \n",
    "                                                                        'outNums_ID_w_h_5_mean'   : 'mean',\n",
    "                                               \n",
    "                                                                        })\n",
    "    result = result.merge(tmp,on=['TRADE_ADDRESS','week','5_min'],how = 'left')\n",
    "    \n",
    "    return result"
   ]
  },
  {
   "cell_type": "code",
   "execution_count": 13,
   "metadata": {},
   "outputs": [],
   "source": [
    "data2 = prevent[(prevent.week!=5)&(prevent.week!=6)&(prevent.week!=7)]"
   ]
  },
  {
   "cell_type": "code",
   "execution_count": 14,
   "metadata": {},
   "outputs": [],
   "source": [
    "data2 = get_base_feature(data2)"
   ]
  },
  {
   "cell_type": "code",
   "execution_count": 15,
   "metadata": {},
   "outputs": [],
   "source": [
    "data9 = more_feature(data2)"
   ]
  },
  {
   "cell_type": "code",
   "execution_count": 16,
   "metadata": {},
   "outputs": [],
   "source": [
    "data= data9.copy()"
   ]
  },
  {
   "cell_type": "code",
   "execution_count": 17,
   "metadata": {},
   "outputs": [],
   "source": [
    "del data2,data9"
   ]
  },
  {
   "cell_type": "code",
   "execution_count": 18,
   "metadata": {},
   "outputs": [
    {
     "data": {
      "text/plain": [
       "(9046398, 36)"
      ]
     },
     "execution_count": 18,
     "metadata": {},
     "output_type": "execute_result"
    }
   ],
   "source": [
    "data.shape"
   ]
  },
  {
   "cell_type": "code",
   "execution_count": 19,
   "metadata": {},
   "outputs": [
    {
     "data": {
      "text/html": [
       "<div>\n",
       "<style scoped>\n",
       "    .dataframe tbody tr th:only-of-type {\n",
       "        vertical-align: middle;\n",
       "    }\n",
       "\n",
       "    .dataframe tbody tr th {\n",
       "        vertical-align: top;\n",
       "    }\n",
       "\n",
       "    .dataframe thead th {\n",
       "        text-align: right;\n",
       "    }\n",
       "</style>\n",
       "<table border=\"1\" class=\"dataframe\">\n",
       "  <thead>\n",
       "    <tr style=\"text-align: right;\">\n",
       "      <th></th>\n",
       "      <th>date</th>\n",
       "      <th>TRADE_ADDRESS</th>\n",
       "      <th>INDUSTRY_CODE</th>\n",
       "      <th>CARD_TYPE_EX</th>\n",
       "      <th>CARD_TYPE</th>\n",
       "      <th>SAM_ID</th>\n",
       "      <th>TERMINAL_ID</th>\n",
       "      <th>RECORD_ROW</th>\n",
       "      <th>30_min</th>\n",
       "      <th>20_min</th>\n",
       "      <th>10_min</th>\n",
       "      <th>5_min</th>\n",
       "      <th>inNums</th>\n",
       "      <th>outNums</th>\n",
       "      <th>week</th>\n",
       "      <th>inNums_ID_w_max</th>\n",
       "      <th>inNums_ID_w_min</th>\n",
       "      <th>inNums_ID_w_mean</th>\n",
       "      <th>inNums_ID_w_sum</th>\n",
       "      <th>inNums_ID_w_h_3_max</th>\n",
       "      <th>inNums_ID_w_h_3_min</th>\n",
       "      <th>inNums_ID_w_h_3_mean</th>\n",
       "      <th>inNums_ID_w_h_3_sum</th>\n",
       "      <th>inNums_ID_w_h_2_max</th>\n",
       "      <th>inNums_ID_w_h_2_min</th>\n",
       "      <th>inNums_ID_w_h_2_mean</th>\n",
       "      <th>inNums_ID_w_h_5_max</th>\n",
       "      <th>inNums_ID_w_h_5_min</th>\n",
       "      <th>inNums_ID_w_h_5_sum</th>\n",
       "      <th>outNums_ID_max</th>\n",
       "      <th>outNums_ID_min</th>\n",
       "      <th>outNums_ID_mean</th>\n",
       "      <th>outNums_ID_sum</th>\n",
       "      <th>outNums_ID_w_h_3_min</th>\n",
       "      <th>outNums_ID_w_h_2_min</th>\n",
       "      <th>outNums_ID_w_h_5_mean</th>\n",
       "    </tr>\n",
       "  </thead>\n",
       "  <tbody>\n",
       "    <tr>\n",
       "      <th>0</th>\n",
       "      <td>2015-10-20</td>\n",
       "      <td>121</td>\n",
       "      <td>0</td>\n",
       "      <td>0</td>\n",
       "      <td>98</td>\n",
       "      <td>32</td>\n",
       "      <td>6</td>\n",
       "      <td>4</td>\n",
       "      <td>14</td>\n",
       "      <td>21</td>\n",
       "      <td>42</td>\n",
       "      <td>85</td>\n",
       "      <td>0</td>\n",
       "      <td>1</td>\n",
       "      <td>2</td>\n",
       "      <td>1</td>\n",
       "      <td>0</td>\n",
       "      <td>0.548106</td>\n",
       "      <td>264642</td>\n",
       "      <td>1</td>\n",
       "      <td>0</td>\n",
       "      <td>0.560664</td>\n",
       "      <td>1890</td>\n",
       "      <td>1</td>\n",
       "      <td>0</td>\n",
       "      <td>0.485650</td>\n",
       "      <td>1</td>\n",
       "      <td>0</td>\n",
       "      <td>464</td>\n",
       "      <td>3</td>\n",
       "      <td>0</td>\n",
       "      <td>0.454027</td>\n",
       "      <td>219218</td>\n",
       "      <td>0</td>\n",
       "      <td>0</td>\n",
       "      <td>0.322628</td>\n",
       "    </tr>\n",
       "    <tr>\n",
       "      <th>1</th>\n",
       "      <td>2015-10-20</td>\n",
       "      <td>121</td>\n",
       "      <td>0</td>\n",
       "      <td>0</td>\n",
       "      <td>98</td>\n",
       "      <td>32</td>\n",
       "      <td>6</td>\n",
       "      <td>6</td>\n",
       "      <td>16</td>\n",
       "      <td>24</td>\n",
       "      <td>49</td>\n",
       "      <td>99</td>\n",
       "      <td>0</td>\n",
       "      <td>1</td>\n",
       "      <td>2</td>\n",
       "      <td>1</td>\n",
       "      <td>0</td>\n",
       "      <td>0.548106</td>\n",
       "      <td>264642</td>\n",
       "      <td>1</td>\n",
       "      <td>0</td>\n",
       "      <td>0.749665</td>\n",
       "      <td>4471</td>\n",
       "      <td>1</td>\n",
       "      <td>0</td>\n",
       "      <td>0.680522</td>\n",
       "      <td>0</td>\n",
       "      <td>0</td>\n",
       "      <td>0</td>\n",
       "      <td>3</td>\n",
       "      <td>0</td>\n",
       "      <td>0.454027</td>\n",
       "      <td>219218</td>\n",
       "      <td>0</td>\n",
       "      <td>0</td>\n",
       "      <td>1.000000</td>\n",
       "    </tr>\n",
       "    <tr>\n",
       "      <th>2</th>\n",
       "      <td>2015-10-20</td>\n",
       "      <td>121</td>\n",
       "      <td>0</td>\n",
       "      <td>0</td>\n",
       "      <td>98</td>\n",
       "      <td>32</td>\n",
       "      <td>6</td>\n",
       "      <td>7</td>\n",
       "      <td>16</td>\n",
       "      <td>24</td>\n",
       "      <td>49</td>\n",
       "      <td>99</td>\n",
       "      <td>0</td>\n",
       "      <td>1</td>\n",
       "      <td>2</td>\n",
       "      <td>1</td>\n",
       "      <td>0</td>\n",
       "      <td>0.548106</td>\n",
       "      <td>264642</td>\n",
       "      <td>1</td>\n",
       "      <td>0</td>\n",
       "      <td>0.749665</td>\n",
       "      <td>4471</td>\n",
       "      <td>1</td>\n",
       "      <td>0</td>\n",
       "      <td>0.680522</td>\n",
       "      <td>0</td>\n",
       "      <td>0</td>\n",
       "      <td>0</td>\n",
       "      <td>3</td>\n",
       "      <td>0</td>\n",
       "      <td>0.454027</td>\n",
       "      <td>219218</td>\n",
       "      <td>0</td>\n",
       "      <td>0</td>\n",
       "      <td>1.000000</td>\n",
       "    </tr>\n",
       "    <tr>\n",
       "      <th>3</th>\n",
       "      <td>2015-10-20</td>\n",
       "      <td>121</td>\n",
       "      <td>0</td>\n",
       "      <td>0</td>\n",
       "      <td>98</td>\n",
       "      <td>32</td>\n",
       "      <td>6</td>\n",
       "      <td>20</td>\n",
       "      <td>35</td>\n",
       "      <td>53</td>\n",
       "      <td>106</td>\n",
       "      <td>212</td>\n",
       "      <td>0</td>\n",
       "      <td>1</td>\n",
       "      <td>2</td>\n",
       "      <td>1</td>\n",
       "      <td>0</td>\n",
       "      <td>0.548106</td>\n",
       "      <td>264642</td>\n",
       "      <td>1</td>\n",
       "      <td>0</td>\n",
       "      <td>0.383571</td>\n",
       "      <td>2176</td>\n",
       "      <td>1</td>\n",
       "      <td>0</td>\n",
       "      <td>0.427173</td>\n",
       "      <td>1</td>\n",
       "      <td>0</td>\n",
       "      <td>687</td>\n",
       "      <td>3</td>\n",
       "      <td>0</td>\n",
       "      <td>0.454027</td>\n",
       "      <td>219218</td>\n",
       "      <td>0</td>\n",
       "      <td>0</td>\n",
       "      <td>0.474251</td>\n",
       "    </tr>\n",
       "    <tr>\n",
       "      <th>4</th>\n",
       "      <td>2015-10-20</td>\n",
       "      <td>121</td>\n",
       "      <td>0</td>\n",
       "      <td>0</td>\n",
       "      <td>98</td>\n",
       "      <td>32</td>\n",
       "      <td>6</td>\n",
       "      <td>21</td>\n",
       "      <td>37</td>\n",
       "      <td>55</td>\n",
       "      <td>111</td>\n",
       "      <td>222</td>\n",
       "      <td>0</td>\n",
       "      <td>1</td>\n",
       "      <td>2</td>\n",
       "      <td>1</td>\n",
       "      <td>0</td>\n",
       "      <td>0.548106</td>\n",
       "      <td>264642</td>\n",
       "      <td>1</td>\n",
       "      <td>0</td>\n",
       "      <td>0.503195</td>\n",
       "      <td>2205</td>\n",
       "      <td>1</td>\n",
       "      <td>0</td>\n",
       "      <td>0.420511</td>\n",
       "      <td>0</td>\n",
       "      <td>0</td>\n",
       "      <td>0</td>\n",
       "      <td>3</td>\n",
       "      <td>0</td>\n",
       "      <td>0.454027</td>\n",
       "      <td>219218</td>\n",
       "      <td>0</td>\n",
       "      <td>0</td>\n",
       "      <td>1.004396</td>\n",
       "    </tr>\n",
       "  </tbody>\n",
       "</table>\n",
       "</div>"
      ],
      "text/plain": [
       "        date  TRADE_ADDRESS  INDUSTRY_CODE  CARD_TYPE_EX  CARD_TYPE  SAM_ID  \\\n",
       "0 2015-10-20            121              0             0         98      32   \n",
       "1 2015-10-20            121              0             0         98      32   \n",
       "2 2015-10-20            121              0             0         98      32   \n",
       "3 2015-10-20            121              0             0         98      32   \n",
       "4 2015-10-20            121              0             0         98      32   \n",
       "\n",
       "   TERMINAL_ID  RECORD_ROW  30_min  20_min  10_min  5_min  inNums  outNums  \\\n",
       "0            6           4      14      21      42     85       0        1   \n",
       "1            6           6      16      24      49     99       0        1   \n",
       "2            6           7      16      24      49     99       0        1   \n",
       "3            6          20      35      53     106    212       0        1   \n",
       "4            6          21      37      55     111    222       0        1   \n",
       "\n",
       "   week  inNums_ID_w_max  inNums_ID_w_min  inNums_ID_w_mean  inNums_ID_w_sum  \\\n",
       "0     2                1                0          0.548106           264642   \n",
       "1     2                1                0          0.548106           264642   \n",
       "2     2                1                0          0.548106           264642   \n",
       "3     2                1                0          0.548106           264642   \n",
       "4     2                1                0          0.548106           264642   \n",
       "\n",
       "   inNums_ID_w_h_3_max  inNums_ID_w_h_3_min  inNums_ID_w_h_3_mean  \\\n",
       "0                    1                    0              0.560664   \n",
       "1                    1                    0              0.749665   \n",
       "2                    1                    0              0.749665   \n",
       "3                    1                    0              0.383571   \n",
       "4                    1                    0              0.503195   \n",
       "\n",
       "   inNums_ID_w_h_3_sum  inNums_ID_w_h_2_max  inNums_ID_w_h_2_min  \\\n",
       "0                 1890                    1                    0   \n",
       "1                 4471                    1                    0   \n",
       "2                 4471                    1                    0   \n",
       "3                 2176                    1                    0   \n",
       "4                 2205                    1                    0   \n",
       "\n",
       "   inNums_ID_w_h_2_mean  inNums_ID_w_h_5_max  inNums_ID_w_h_5_min  \\\n",
       "0              0.485650                    1                    0   \n",
       "1              0.680522                    0                    0   \n",
       "2              0.680522                    0                    0   \n",
       "3              0.427173                    1                    0   \n",
       "4              0.420511                    0                    0   \n",
       "\n",
       "   inNums_ID_w_h_5_sum  outNums_ID_max  outNums_ID_min  outNums_ID_mean  \\\n",
       "0                  464               3               0         0.454027   \n",
       "1                    0               3               0         0.454027   \n",
       "2                    0               3               0         0.454027   \n",
       "3                  687               3               0         0.454027   \n",
       "4                    0               3               0         0.454027   \n",
       "\n",
       "   outNums_ID_sum  outNums_ID_w_h_3_min  outNums_ID_w_h_2_min  \\\n",
       "0          219218                     0                     0   \n",
       "1          219218                     0                     0   \n",
       "2          219218                     0                     0   \n",
       "3          219218                     0                     0   \n",
       "4          219218                     0                     0   \n",
       "\n",
       "   outNums_ID_w_h_5_mean  \n",
       "0               0.322628  \n",
       "1               1.000000  \n",
       "2               1.000000  \n",
       "3               0.474251  \n",
       "4               1.004396  "
      ]
     },
     "execution_count": 19,
     "metadata": {},
     "output_type": "execute_result"
    }
   ],
   "source": [
    "data.head()"
   ]
  },
  {
   "cell_type": "code",
   "execution_count": 20,
   "metadata": {},
   "outputs": [
    {
     "name": "stdout",
     "output_type": "stream",
     "text": [
      "INDUSTRY_CODE 0.9222655249083669\n",
      "inNums_ID_w_max 0.941837955836124\n",
      "inNums_ID_w_h_3_max 0.9987367347755427\n",
      "inNums_ID_w_h_2_max 0.9991168860799624\n",
      "inNums_ID_w_h_5_min 0.9995647991609479\n",
      "outNums_ID_min 1.0\n",
      "outNums_ID_w_h_3_min 0.999818601834675\n"
     ]
    }
   ],
   "source": [
    "#删除类别列别超过90%的列\n",
    "cols = list(data.columns)\n",
    "for col in cols:\n",
    "    rate = data[col].value_counts(normalize = True,dropna = False).values[0]\n",
    "    if ((rate>0.9)&(col!='id_week')):\n",
    "        cols.remove(col)\n",
    "        print(col,rate)\n",
    "data = data[cols]"
   ]
  },
  {
   "cell_type": "code",
   "execution_count": 21,
   "metadata": {},
   "outputs": [],
   "source": [
    "data['id_week'] = 0\n",
    "\n",
    "\n",
    "data.id_week[(data.date>='2015-10-20')&(data.date<='2015-10-26')] = 1\n",
    "data.id_week[(data.date>='2015-10-27')&(data.date<='2015-11-2')] = 2\n",
    "data.id_week[(data.date>='2015-11-3')&(data.date<='2015-11-9')] = 3\n",
    "data.id_week[(data.date>='2015-11-10')&(data.date<='2015-11-16')] = 4\n",
    "data.id_week[(data.date>='2015-11-17')&(data.date<='2015-11-23')] = 5\n"
   ]
  },
  {
   "cell_type": "code",
   "execution_count": 22,
   "metadata": {},
   "outputs": [],
   "source": [
    "sub = data[data.id_week==5]"
   ]
  },
  {
   "cell_type": "code",
   "execution_count": 23,
   "metadata": {},
   "outputs": [],
   "source": [
    "#lgb参数\n",
    "params = {\n",
    "    'boosting_type': 'gbdt',\n",
    "    'objective': 'regression',\n",
    "    'metric': 'mae',\n",
    "    'num_leaves': 63,\n",
    "    'learning_rate': 0.01,\n",
    "    'feature_fraction': 0.8,\n",
    "    'bagging_fraction': 0.9,\n",
    "    'bagging_seed':0,\n",
    "    'bagging_freq': 1,\n",
    "    'verbose': 1,\n",
    "    'reg_alpha':1,\n",
    "    'reg_lambda':2,\n",
    "    'min_child_weight':6\n",
    "}"
   ]
  },
  {
   "cell_type": "code",
   "execution_count": 24,
   "metadata": {},
   "outputs": [],
   "source": [
    "columns = ['TRADE_ADDRESS',\n",
    " 'CARD_TYPE_EX',\n",
    " 'CARD_TYPE',\n",
    " 'SAM_ID',\n",
    " 'TERMINAL_ID',\n",
    " '5_min',\n",
    " 'RECORD_ROW',\n",
    "           'inNums',\n",
    "           'outNums',\n",
    " 'inNums_ID_w_mean',\n",
    " 'inNums_ID_w_sum',\n",
    " 'inNums_ID_w_h_3_mean',\n",
    " 'inNums_ID_w_h_3_sum',\n",
    " 'inNums_ID_w_h_2_mean',\n",
    " 'outNums_ID_max',\n",
    " 'outNums_ID_mean',\n",
    " 'outNums_ID_sum',\n",
    " 'inNums_ID_w_h_5_sum',\n",
    " 'outNums_ID_w_h_5_mean']"
   ]
  },
  {
   "cell_type": "code",
   "execution_count": 25,
   "metadata": {},
   "outputs": [],
   "source": [
    "#########inNums\n",
    "# train_in = data[data.id_week!=4]\n",
    "train_in = data[data.id_week<4]\n",
    "train_in = train_in[columns]\n",
    "y_train_in = train_in['inNums']\n",
    "\n",
    "del train_in['outNums'],train_in['inNums']\n",
    "\n",
    "valid = data[data.id_week==4]\n",
    "valid = valid[columns]\n",
    "y_valid = valid['inNums']\n",
    "del valid['outNums'],valid['inNums']\n",
    "# y_valid = np.log1p(y_valid)\n",
    "\n",
    "test_in = data[data.id_week==5]\n",
    "test_in = test_in[columns]\n",
    "y_test_in = test_in['inNums']\n",
    "del test_in['inNums'],test_in['outNums']"
   ]
  },
  {
   "cell_type": "code",
   "execution_count": 26,
   "metadata": {},
   "outputs": [],
   "source": [
    "X_train_in = data[data.id_week<4]\n",
    "X_train_in = X_train_in[columns]\n",
    "X_y_train_in = X_train_in['inNums']\n",
    "\n",
    "del X_train_in['outNums'],X_train_in['inNums']"
   ]
  },
  {
   "cell_type": "code",
   "execution_count": 27,
   "metadata": {},
   "outputs": [
    {
     "name": "stdout",
     "output_type": "stream",
     "text": [
      "Training until validation scores don't improve for 50 rounds.\n",
      "[1000]\ttrain's l1: 0.0253315\tvalid's l1: 0.0255529\n",
      "[2000]\ttrain's l1: 0.0155573\tvalid's l1: 0.0158692\n",
      "[3000]\ttrain's l1: 0.0116776\tvalid's l1: 0.0121377\n",
      "[4000]\ttrain's l1: 0.00953908\tvalid's l1: 0.0101056\n",
      "[5000]\ttrain's l1: 0.00814504\tvalid's l1: 0.00878238\n",
      "[6000]\ttrain's l1: 0.00714369\tvalid's l1: 0.00781901\n",
      "[7000]\ttrain's l1: 0.00648697\tvalid's l1: 0.0071992\n",
      "[8000]\ttrain's l1: 0.00601067\tvalid's l1: 0.00676338\n",
      "[9000]\ttrain's l1: 0.00559718\tvalid's l1: 0.00638117\n",
      "[10000]\ttrain's l1: 0.00525862\tvalid's l1: 0.0060684\n",
      "[11000]\ttrain's l1: 0.00497429\tvalid's l1: 0.0058038\n",
      "[12000]\ttrain's l1: 0.00473595\tvalid's l1: 0.00558143\n",
      "[13000]\ttrain's l1: 0.00453886\tvalid's l1: 0.00540054\n",
      "[14000]\ttrain's l1: 0.00437356\tvalid's l1: 0.00525128\n",
      "[15000]\ttrain's l1: 0.00422357\tvalid's l1: 0.00511669\n",
      "[16000]\ttrain's l1: 0.00409211\tvalid's l1: 0.00499753\n",
      "[17000]\ttrain's l1: 0.00397472\tvalid's l1: 0.00489427\n",
      "[18000]\ttrain's l1: 0.00386994\tvalid's l1: 0.00480245\n",
      "[19000]\ttrain's l1: 0.00376977\tvalid's l1: 0.00471341\n",
      "[20000]\ttrain's l1: 0.00368084\tvalid's l1: 0.00463448\n",
      "Did not meet early stopping. Best iteration is:\n",
      "[20000]\ttrain's l1: 0.00368084\tvalid's l1: 0.00463448\n"
     ]
    }
   ],
   "source": [
    "lgb_train = lgb.Dataset(train_in, y_train_in)\n",
    "lgb_evals = lgb.Dataset(valid, y_valid , reference=lgb_train)\n",
    "gbm1 = lgb.train(params,\n",
    "                lgb_train,\n",
    "                num_boost_round=20000,\n",
    "                valid_sets=[lgb_train,lgb_evals],\n",
    "                valid_names=['train','valid'],\n",
    "                early_stopping_rounds=50,\n",
    "                verbose_eval=1000,\n",
    "                )\n",
    "# lgb_train = lgb.Dataset(X_train_in, X_y_train_in)\n",
    "# gbm1 = lgb.train(params,\n",
    "#                 lgb_train,\n",
    "#                 num_boost_round=gbm1.best_iteration,\n",
    "# #                 num_boost_round=20000,\n",
    "#                 valid_sets=[lgb_train],\n",
    "#                 valid_names=['train'],\n",
    "#                 early_stopping_rounds=50,\n",
    "#                 verbose_eval=1000,\n",
    "#                 )"
   ]
  },
  {
   "cell_type": "code",
   "execution_count": 28,
   "metadata": {},
   "outputs": [],
   "source": [
    "prediction_in = gbm1.predict(test_in, num_iteration=gbm1.best_iteration)"
   ]
  },
  {
   "cell_type": "code",
   "execution_count": 29,
   "metadata": {},
   "outputs": [
    {
     "data": {
      "text/plain": [
       "0.0004589598434636605"
      ]
     },
     "execution_count": 29,
     "metadata": {},
     "output_type": "execute_result"
    }
   ],
   "source": [
    "error_in = mean_absolute_error(np.round(prediction_in),y_test_in)\n",
    "error_in"
   ]
  },
  {
   "cell_type": "code",
   "execution_count": 30,
   "metadata": {},
   "outputs": [
    {
     "data": {
      "text/plain": [
       "0.00569660819003189"
      ]
     },
     "execution_count": 30,
     "metadata": {},
     "output_type": "execute_result"
    }
   ],
   "source": [
    "error_in = mean_absolute_error(prediction_in,y_test_in)\n",
    "error_in"
   ]
  },
  {
   "cell_type": "code",
   "execution_count": 31,
   "metadata": {},
   "outputs": [],
   "source": [
    "sub['pre_inNums'] = prediction_in\n",
    "#结果修正\n",
    "# sub.loc[sub.pre_inNums<0,'pre_inNums'] = 0"
   ]
  },
  {
   "cell_type": "code",
   "execution_count": 32,
   "metadata": {},
   "outputs": [
    {
     "data": {
      "text/plain": [
       "0.005696608190031503"
      ]
     },
     "execution_count": 32,
     "metadata": {},
     "output_type": "execute_result"
    }
   ],
   "source": [
    "mean_absolute_percentage_error(sub['pre_inNums'],y_test_in)"
   ]
  },
  {
   "cell_type": "code",
   "execution_count": 33,
   "metadata": {},
   "outputs": [],
   "source": [
    "#########inNums\n",
    "# train_out = data[data.id_week!=4]\n",
    "train_out = data[data.id_week<4]\n",
    "train_out = train_out[columns]\n",
    "y_train_out = train_out['outNums']\n",
    "del train_out['outNums'],train_out['inNums']\n",
    "\n",
    "valid = data[data.id_week==4]\n",
    "valid = valid[columns]\n",
    "y_valid = valid['outNums']\n",
    "del valid['outNums'],valid['inNums']\n",
    "# y_valid = np.log1p(y_valid)\n",
    "\n",
    "test_out = data[data.id_week==5]\n",
    "test_out = test_out[columns]\n",
    "y_test_out = test_out['outNums']\n",
    "del test_out['inNums'],test_out['outNums']"
   ]
  },
  {
   "cell_type": "code",
   "execution_count": 34,
   "metadata": {},
   "outputs": [],
   "source": [
    "X_train_out = data[data.id_week<=4]\n",
    "X_train_out = X_train_out[columns]\n",
    "X_y_train_out = X_train_out['outNums']\n",
    "del X_train_out['outNums'],X_train_out['inNums']"
   ]
  },
  {
   "cell_type": "code",
   "execution_count": 35,
   "metadata": {},
   "outputs": [
    {
     "name": "stdout",
     "output_type": "stream",
     "text": [
      "Training until validation scores don't improve for 50 rounds.\n",
      "[1000]\ttrain's l1: 0.0268493\tvalid's l1: 0.0270196\n",
      "[2000]\ttrain's l1: 0.0170717\tvalid's l1: 0.0174356\n",
      "[3000]\ttrain's l1: 0.0134479\tvalid's l1: 0.0139499\n",
      "[4000]\ttrain's l1: 0.0114117\tvalid's l1: 0.0120078\n",
      "[5000]\ttrain's l1: 0.010128\tvalid's l1: 0.0107736\n",
      "[6000]\ttrain's l1: 0.0092252\tvalid's l1: 0.0099045\n",
      "[7000]\ttrain's l1: 0.00856972\tvalid's l1: 0.0092804\n",
      "[8000]\ttrain's l1: 0.00809748\tvalid's l1: 0.00884146\n",
      "[9000]\ttrain's l1: 0.00773926\tvalid's l1: 0.00850577\n",
      "[10000]\ttrain's l1: 0.0074685\tvalid's l1: 0.00825664\n",
      "[11000]\ttrain's l1: 0.00724949\tvalid's l1: 0.00805376\n",
      "[12000]\ttrain's l1: 0.00708035\tvalid's l1: 0.00790208\n",
      "[13000]\ttrain's l1: 0.00692731\tvalid's l1: 0.00776446\n",
      "[14000]\ttrain's l1: 0.00680233\tvalid's l1: 0.00765234\n",
      "[15000]\ttrain's l1: 0.00669181\tvalid's l1: 0.00755542\n",
      "[16000]\ttrain's l1: 0.00659837\tvalid's l1: 0.0074736\n",
      "[17000]\ttrain's l1: 0.00651405\tvalid's l1: 0.00740108\n",
      "[18000]\ttrain's l1: 0.00643194\tvalid's l1: 0.00732867\n",
      "[19000]\ttrain's l1: 0.00636554\tvalid's l1: 0.00727249\n",
      "[20000]\ttrain's l1: 0.00630613\tvalid's l1: 0.00722166\n",
      "[21000]\ttrain's l1: 0.00624965\tvalid's l1: 0.00717376\n",
      "[22000]\ttrain's l1: 0.0061977\tvalid's l1: 0.00713037\n",
      "[23000]\ttrain's l1: 0.00615396\tvalid's l1: 0.00709559\n",
      "[24000]\ttrain's l1: 0.00610907\tvalid's l1: 0.00705864\n",
      "[25000]\ttrain's l1: 0.0060666\tvalid's l1: 0.00702441\n",
      "[26000]\ttrain's l1: 0.0060292\tvalid's l1: 0.00699539\n",
      "[27000]\ttrain's l1: 0.00599336\tvalid's l1: 0.00696743\n",
      "[28000]\ttrain's l1: 0.00595773\tvalid's l1: 0.00693838\n",
      "[29000]\ttrain's l1: 0.0059275\tvalid's l1: 0.00691573\n",
      "[30000]\ttrain's l1: 0.00589686\tvalid's l1: 0.00689205\n",
      "[31000]\ttrain's l1: 0.00586959\tvalid's l1: 0.00687133\n",
      "[32000]\ttrain's l1: 0.00584288\tvalid's l1: 0.00685113\n",
      "[33000]\ttrain's l1: 0.005818\tvalid's l1: 0.00683274\n",
      "[34000]\ttrain's l1: 0.00579503\tvalid's l1: 0.00681591\n",
      "[35000]\ttrain's l1: 0.00577161\tvalid's l1: 0.00679915\n",
      "[36000]\ttrain's l1: 0.00575096\tvalid's l1: 0.00678458\n",
      "[37000]\ttrain's l1: 0.00573255\tvalid's l1: 0.00677206\n",
      "Early stopping, best iteration is:\n",
      "[37422]\ttrain's l1: 0.0057247\tvalid's l1: 0.0067669\n"
     ]
    }
   ],
   "source": [
    "lgb_train = lgb.Dataset(train_out, y_train_out)\n",
    "lgb_evals = lgb.Dataset(valid, y_valid , reference=lgb_train)\n",
    "gbm2 = lgb.train(params,\n",
    "                lgb_train,\n",
    "                num_boost_round=50000,\n",
    "                valid_sets=[lgb_train,lgb_evals],\n",
    "                valid_names=['train','valid'],\n",
    "                early_stopping_rounds=50,\n",
    "                verbose_eval=1000,\n",
    "                )\n",
    "# lgb_train = lgb.Dataset(X_train_out, X_y_train_out)\n",
    "# gbm2 = lgb.train(params,\n",
    "#                 lgb_train,\n",
    "#                 num_boost_round=gbm2.best_iteration,\n",
    "# #                 num_boost_round=50000,\n",
    "#                 valid_sets=[lgb_train],\n",
    "#                 valid_names=['train'],\n",
    "#                 early_stopping_rounds=50,\n",
    "#                 verbose_eval=1000,\n",
    "#                 )"
   ]
  },
  {
   "cell_type": "code",
   "execution_count": 36,
   "metadata": {},
   "outputs": [
    {
     "name": "stdout",
     "output_type": "stream",
     "text": [
      "outNums的分数 0.0019381934077468937\n"
     ]
    }
   ],
   "source": [
    "prediction_out = gbm2.predict(test_out, num_iteration=gbm2.best_iteration)\n",
    "error_out = mean_absolute_error(np.round(prediction_out),y_test_out)\n",
    "print('outNums的分数',error_out)"
   ]
  },
  {
   "cell_type": "code",
   "execution_count": 37,
   "metadata": {},
   "outputs": [
    {
     "name": "stdout",
     "output_type": "stream",
     "text": [
      "                   column  importance\n",
      "4             TERMINAL_ID      206742\n",
      "16  outNums_ID_w_h_5_mean      197650\n",
      "3                  SAM_ID      175466\n",
      "6              RECORD_ROW      121791\n",
      "9    inNums_ID_w_h_3_mean      120054\n",
      "11   inNums_ID_w_h_2_mean       99620\n",
      "5                   5_min       94324\n",
      "15    inNums_ID_w_h_5_sum       88594\n",
      "10    inNums_ID_w_h_3_sum       35063\n",
      "2               CARD_TYPE       27203\n",
      "0           TRADE_ADDRESS       25795\n",
      "7        inNums_ID_w_mean       13957\n",
      "8         inNums_ID_w_sum       12207\n",
      "1            CARD_TYPE_EX       11129\n",
      "14         outNums_ID_sum        4983\n",
      "13        outNums_ID_mean        4733\n",
      "12         outNums_ID_max         689\n"
     ]
    }
   ],
   "source": [
    "features=train_out.columns\n",
    "feature_rank=gbm1.feature_importance()\n",
    "features_df=pd.DataFrame({ 'column':features,'importance': feature_rank}).sort_values(by='importance', ascending=False)\n",
    "print(features_df)"
   ]
  },
  {
   "cell_type": "code",
   "execution_count": 38,
   "metadata": {},
   "outputs": [
    {
     "name": "stdout",
     "output_type": "stream",
     "text": [
      "                   column  importance\n",
      "6              RECORD_ROW      393117\n",
      "4             TERMINAL_ID      320214\n",
      "3                  SAM_ID      300051\n",
      "16  outNums_ID_w_h_5_mean      271467\n",
      "9    inNums_ID_w_h_3_mean      211469\n",
      "11   inNums_ID_w_h_2_mean      196314\n",
      "5                   5_min      195940\n",
      "15    inNums_ID_w_h_5_sum      141978\n",
      "10    inNums_ID_w_h_3_sum      124158\n",
      "2               CARD_TYPE       35863\n",
      "0           TRADE_ADDRESS       31505\n",
      "1            CARD_TYPE_EX       28133\n",
      "7        inNums_ID_w_mean       26417\n",
      "8         inNums_ID_w_sum       23153\n",
      "14         outNums_ID_sum       10705\n",
      "13        outNums_ID_mean        8570\n",
      "12         outNums_ID_max        1110\n"
     ]
    }
   ],
   "source": [
    "features=train_out.columns\n",
    "feature_rank=gbm2.feature_importance()\n",
    "features_df=pd.DataFrame({ 'column':features,'importance': feature_rank}).sort_values(by='importance', ascending=False)\n",
    "print(features_df)"
   ]
  },
  {
   "cell_type": "code",
   "execution_count": 39,
   "metadata": {},
   "outputs": [],
   "source": [
    "sub['pre_outNums'] = prediction_out\n",
    "#结果修正\n",
    "# sub.loc[sub.pre_outNums<0,'pre_outNums'] = 0"
   ]
  },
  {
   "cell_type": "code",
   "execution_count": 40,
   "metadata": {},
   "outputs": [],
   "source": [
    "sub1 = sub.groupby(['date','TRADE_ADDRESS']).pre_inNums.agg({'inNums':'sum'}).reset_index()\n",
    "sub2 = sub.groupby(['date','TRADE_ADDRESS']).pre_outNums.agg({'outNums':'sum'}).reset_index()\n",
    "sub_result = sub1.merge(sub2,on = ['date','TRADE_ADDRESS'],how='left')\n",
    "sub_result['flow'] = sub_result.inNums + sub_result.outNums\n",
    "sub_result['round_pre'] = np.round(sub_result.flow)\n",
    "sub_result['round_in'] = np.round(sub_result.inNums)\n",
    "sub_result['round_out'] = np.round(sub_result.outNums)"
   ]
  },
  {
   "cell_type": "code",
   "execution_count": 41,
   "metadata": {},
   "outputs": [],
   "source": [
    "real1 = sub.groupby(['date','TRADE_ADDRESS']).inNums.agg({'inNums':'sum'}).reset_index()\n",
    "real2 = sub.groupby(['date','TRADE_ADDRESS']).outNums.agg({'outNums':'sum'}).reset_index()\n",
    "real = real1.merge(real2,on = ['date','TRADE_ADDRESS'],how='left')\n",
    "real['flow'] = real.inNums + real.outNums"
   ]
  },
  {
   "cell_type": "code",
   "execution_count": 42,
   "metadata": {},
   "outputs": [
    {
     "data": {
      "text/plain": [
       "10.355598006306895"
      ]
     },
     "execution_count": 42,
     "metadata": {},
     "output_type": "execute_result"
    }
   ],
   "source": [
    "error = mean_absolute_percentage_error(sub_result.flow,real.flow)\n",
    "error"
   ]
  },
  {
   "cell_type": "code",
   "execution_count": 43,
   "metadata": {},
   "outputs": [
    {
     "data": {
      "text/html": [
       "<div>\n",
       "<style scoped>\n",
       "    .dataframe tbody tr th:only-of-type {\n",
       "        vertical-align: middle;\n",
       "    }\n",
       "\n",
       "    .dataframe tbody tr th {\n",
       "        vertical-align: top;\n",
       "    }\n",
       "\n",
       "    .dataframe thead th {\n",
       "        text-align: right;\n",
       "    }\n",
       "</style>\n",
       "<table border=\"1\" class=\"dataframe\">\n",
       "  <thead>\n",
       "    <tr style=\"text-align: right;\">\n",
       "      <th></th>\n",
       "      <th>date</th>\n",
       "      <th>TRADE_ADDRESS</th>\n",
       "      <th>inNums</th>\n",
       "      <th>outNums</th>\n",
       "      <th>flow</th>\n",
       "      <th>round_pre</th>\n",
       "      <th>round_in</th>\n",
       "      <th>round_out</th>\n",
       "    </tr>\n",
       "  </thead>\n",
       "  <tbody>\n",
       "    <tr>\n",
       "      <th>0</th>\n",
       "      <td>2015-11-17</td>\n",
       "      <td>121</td>\n",
       "      <td>12506.204445</td>\n",
       "      <td>10450.615472</td>\n",
       "      <td>22956.819917</td>\n",
       "      <td>22957.0</td>\n",
       "      <td>12506.0</td>\n",
       "      <td>10451.0</td>\n",
       "    </tr>\n",
       "    <tr>\n",
       "      <th>1</th>\n",
       "      <td>2015-11-17</td>\n",
       "      <td>123</td>\n",
       "      <td>5393.123858</td>\n",
       "      <td>4975.428877</td>\n",
       "      <td>10368.552735</td>\n",
       "      <td>10369.0</td>\n",
       "      <td>5393.0</td>\n",
       "      <td>4975.0</td>\n",
       "    </tr>\n",
       "    <tr>\n",
       "      <th>2</th>\n",
       "      <td>2015-11-17</td>\n",
       "      <td>125</td>\n",
       "      <td>9937.377972</td>\n",
       "      <td>10811.640441</td>\n",
       "      <td>20749.018413</td>\n",
       "      <td>20749.0</td>\n",
       "      <td>9937.0</td>\n",
       "      <td>10812.0</td>\n",
       "    </tr>\n",
       "    <tr>\n",
       "      <th>3</th>\n",
       "      <td>2015-11-17</td>\n",
       "      <td>127</td>\n",
       "      <td>10138.285073</td>\n",
       "      <td>9885.660601</td>\n",
       "      <td>20023.945674</td>\n",
       "      <td>20024.0</td>\n",
       "      <td>10138.0</td>\n",
       "      <td>9886.0</td>\n",
       "    </tr>\n",
       "    <tr>\n",
       "      <th>4</th>\n",
       "      <td>2015-11-17</td>\n",
       "      <td>129</td>\n",
       "      <td>7421.426736</td>\n",
       "      <td>7053.162989</td>\n",
       "      <td>14474.589724</td>\n",
       "      <td>14475.0</td>\n",
       "      <td>7421.0</td>\n",
       "      <td>7053.0</td>\n",
       "    </tr>\n",
       "  </tbody>\n",
       "</table>\n",
       "</div>"
      ],
      "text/plain": [
       "        date  TRADE_ADDRESS        inNums       outNums          flow  \\\n",
       "0 2015-11-17            121  12506.204445  10450.615472  22956.819917   \n",
       "1 2015-11-17            123   5393.123858   4975.428877  10368.552735   \n",
       "2 2015-11-17            125   9937.377972  10811.640441  20749.018413   \n",
       "3 2015-11-17            127  10138.285073   9885.660601  20023.945674   \n",
       "4 2015-11-17            129   7421.426736   7053.162989  14474.589724   \n",
       "\n",
       "   round_pre  round_in  round_out  \n",
       "0    22957.0   12506.0    10451.0  \n",
       "1    10369.0    5393.0     4975.0  \n",
       "2    20749.0    9937.0    10812.0  \n",
       "3    20024.0   10138.0     9886.0  \n",
       "4    14475.0    7421.0     7053.0  "
      ]
     },
     "execution_count": 43,
     "metadata": {},
     "output_type": "execute_result"
    }
   ],
   "source": [
    "sub_result.head()"
   ]
  },
  {
   "cell_type": "code",
   "execution_count": 52,
   "metadata": {},
   "outputs": [
    {
     "data": {
      "text/plain": [
       "['date',\n",
       " 'TRADE_ADDRESS',\n",
       " 'inNums',\n",
       " 'outNums',\n",
       " 'flow',\n",
       " 'round_pre',\n",
       " 'round_in',\n",
       " 'round_out']"
      ]
     },
     "execution_count": 52,
     "metadata": {},
     "output_type": "execute_result"
    }
   ],
   "source": [
    "list(sub_result.columns)"
   ]
  },
  {
   "cell_type": "code",
   "execution_count": 53,
   "metadata": {},
   "outputs": [],
   "source": [
    "sub_columns= ['date',\n",
    " 'TRADE_ADDRESS',\n",
    " 'round_pre',\n",
    " 'round_in',\n",
    " 'round_out']"
   ]
  },
  {
   "cell_type": "code",
   "execution_count": 54,
   "metadata": {},
   "outputs": [],
   "source": [
    "sub_result = sub_result[sub_columns]"
   ]
  },
  {
   "cell_type": "code",
   "execution_count": 55,
   "metadata": {},
   "outputs": [
    {
     "data": {
      "text/html": [
       "<div>\n",
       "<style scoped>\n",
       "    .dataframe tbody tr th:only-of-type {\n",
       "        vertical-align: middle;\n",
       "    }\n",
       "\n",
       "    .dataframe tbody tr th {\n",
       "        vertical-align: top;\n",
       "    }\n",
       "\n",
       "    .dataframe thead th {\n",
       "        text-align: right;\n",
       "    }\n",
       "</style>\n",
       "<table border=\"1\" class=\"dataframe\">\n",
       "  <thead>\n",
       "    <tr style=\"text-align: right;\">\n",
       "      <th></th>\n",
       "      <th>date</th>\n",
       "      <th>TRADE_ADDRESS</th>\n",
       "      <th>round_pre</th>\n",
       "      <th>round_in</th>\n",
       "      <th>round_out</th>\n",
       "    </tr>\n",
       "  </thead>\n",
       "  <tbody>\n",
       "    <tr>\n",
       "      <th>0</th>\n",
       "      <td>2015-11-17</td>\n",
       "      <td>121</td>\n",
       "      <td>22957.0</td>\n",
       "      <td>12506.0</td>\n",
       "      <td>10451.0</td>\n",
       "    </tr>\n",
       "    <tr>\n",
       "      <th>1</th>\n",
       "      <td>2015-11-17</td>\n",
       "      <td>123</td>\n",
       "      <td>10369.0</td>\n",
       "      <td>5393.0</td>\n",
       "      <td>4975.0</td>\n",
       "    </tr>\n",
       "    <tr>\n",
       "      <th>2</th>\n",
       "      <td>2015-11-17</td>\n",
       "      <td>125</td>\n",
       "      <td>20749.0</td>\n",
       "      <td>9937.0</td>\n",
       "      <td>10812.0</td>\n",
       "    </tr>\n",
       "    <tr>\n",
       "      <th>3</th>\n",
       "      <td>2015-11-17</td>\n",
       "      <td>127</td>\n",
       "      <td>20024.0</td>\n",
       "      <td>10138.0</td>\n",
       "      <td>9886.0</td>\n",
       "    </tr>\n",
       "    <tr>\n",
       "      <th>4</th>\n",
       "      <td>2015-11-17</td>\n",
       "      <td>129</td>\n",
       "      <td>14475.0</td>\n",
       "      <td>7421.0</td>\n",
       "      <td>7053.0</td>\n",
       "    </tr>\n",
       "  </tbody>\n",
       "</table>\n",
       "</div>"
      ],
      "text/plain": [
       "        date  TRADE_ADDRESS  round_pre  round_in  round_out\n",
       "0 2015-11-17            121    22957.0   12506.0    10451.0\n",
       "1 2015-11-17            123    10369.0    5393.0     4975.0\n",
       "2 2015-11-17            125    20749.0    9937.0    10812.0\n",
       "3 2015-11-17            127    20024.0   10138.0     9886.0\n",
       "4 2015-11-17            129    14475.0    7421.0     7053.0"
      ]
     },
     "execution_count": 55,
     "metadata": {},
     "output_type": "execute_result"
    }
   ],
   "source": [
    "sub_result.head()"
   ]
  },
  {
   "cell_type": "code",
   "execution_count": 44,
   "metadata": {},
   "outputs": [
    {
     "data": {
      "text/html": [
       "<div>\n",
       "<style scoped>\n",
       "    .dataframe tbody tr th:only-of-type {\n",
       "        vertical-align: middle;\n",
       "    }\n",
       "\n",
       "    .dataframe tbody tr th {\n",
       "        vertical-align: top;\n",
       "    }\n",
       "\n",
       "    .dataframe thead th {\n",
       "        text-align: right;\n",
       "    }\n",
       "</style>\n",
       "<table border=\"1\" class=\"dataframe\">\n",
       "  <thead>\n",
       "    <tr style=\"text-align: right;\">\n",
       "      <th></th>\n",
       "      <th>date</th>\n",
       "      <th>TRADE_ADDRESS</th>\n",
       "      <th>inNums</th>\n",
       "      <th>outNums</th>\n",
       "      <th>flow</th>\n",
       "    </tr>\n",
       "  </thead>\n",
       "  <tbody>\n",
       "    <tr>\n",
       "      <th>0</th>\n",
       "      <td>2015-11-17</td>\n",
       "      <td>121</td>\n",
       "      <td>12526</td>\n",
       "      <td>10450</td>\n",
       "      <td>22976</td>\n",
       "    </tr>\n",
       "    <tr>\n",
       "      <th>1</th>\n",
       "      <td>2015-11-17</td>\n",
       "      <td>123</td>\n",
       "      <td>5398</td>\n",
       "      <td>4968</td>\n",
       "      <td>10366</td>\n",
       "    </tr>\n",
       "    <tr>\n",
       "      <th>2</th>\n",
       "      <td>2015-11-17</td>\n",
       "      <td>125</td>\n",
       "      <td>9947</td>\n",
       "      <td>10815</td>\n",
       "      <td>20762</td>\n",
       "    </tr>\n",
       "    <tr>\n",
       "      <th>3</th>\n",
       "      <td>2015-11-17</td>\n",
       "      <td>127</td>\n",
       "      <td>10156</td>\n",
       "      <td>9861</td>\n",
       "      <td>20017</td>\n",
       "    </tr>\n",
       "    <tr>\n",
       "      <th>4</th>\n",
       "      <td>2015-11-17</td>\n",
       "      <td>129</td>\n",
       "      <td>7431</td>\n",
       "      <td>7048</td>\n",
       "      <td>14479</td>\n",
       "    </tr>\n",
       "  </tbody>\n",
       "</table>\n",
       "</div>"
      ],
      "text/plain": [
       "        date  TRADE_ADDRESS  inNums  outNums   flow\n",
       "0 2015-11-17            121   12526    10450  22976\n",
       "1 2015-11-17            123    5398     4968  10366\n",
       "2 2015-11-17            125    9947    10815  20762\n",
       "3 2015-11-17            127   10156     9861  20017\n",
       "4 2015-11-17            129    7431     7048  14479"
      ]
     },
     "execution_count": 44,
     "metadata": {},
     "output_type": "execute_result"
    }
   ],
   "source": [
    "real.head()"
   ]
  },
  {
   "cell_type": "code",
   "execution_count": 56,
   "metadata": {},
   "outputs": [],
   "source": [
    "re_path = '../result1/'\n",
    "sub_result.to_csv(re_path+'1_2_3_4_flow_pre'+str('%.2f'%error)+'.csv',encoding='utf-8',index=False)\n",
    "real.to_csv(re_path+'1_2_3_4_flow_real.csv',encoding='utf-8',index=False)"
   ]
  },
  {
   "cell_type": "code",
   "execution_count": 48,
   "metadata": {},
   "outputs": [],
   "source": [
    "# #进行时间序列的交叉验证\n",
    "# test_week = [4,5,6]\n",
    "# # test_day = [23,24,25,28]\n",
    "# error_in = []\n",
    "# for i in test_week:\n",
    "#     test = data[data.id_week== i+1]\n",
    "#     y_test = test['inNums']\n",
    "    \n",
    "#     del test['id_week']\n",
    "#     del test['inNums']\n",
    "#     del test['outNums']\n",
    "    \n",
    "#     print('###############################inNums验证集',i)\n",
    "\n",
    "#     train = data[data.id_week<i]\n",
    "#     valid = data[data.id_week==i]\n",
    "#     y_train = train['inNums']\n",
    "#     y_valid = valid['inNums']\n",
    "    \n",
    "#     del train['inNums'],valid['inNums'],train['id_week']\n",
    "#     del train['outNums'],valid['outNums'],valid['id_week']\n",
    "    \n",
    "#     lgb_train = lgb.Dataset(train,y_train)\n",
    "#     lgb_evals  = lgb.Dataset(valid,y_valid,reference=lgb_train)\n",
    "    \n",
    "    \n",
    "#     gbm = lgb.train(params,\n",
    "#                 lgb_train,\n",
    "#                 num_boost_round=10000,\n",
    "#                 valid_sets=[lgb_train,lgb_evals],\n",
    "#                 valid_names=['train','valid'],\n",
    "#                 early_stopping_rounds=200,\n",
    "#                 verbose_eval=1000,\n",
    "#                 )\n",
    "    \n",
    "#     prediction_in = gbm.predict(test)\n",
    "    \n",
    "\n",
    "#     error = mean_absolute_percentage_error(np.abs(np.round(prediction_in)),y_test)\n",
    "#     error_in.append(error)\n",
    "#     print('验证集：',i)\n",
    "#     print('验证集下一天作为测试集的误差为：',error)\n",
    "        \n",
    "# print('inNums的CV验证分数：',np.mean(error_in))"
   ]
  },
  {
   "cell_type": "code",
   "execution_count": 49,
   "metadata": {},
   "outputs": [],
   "source": [
    "# #进行时间序列的交叉验证\n",
    "# test_week = [4,5,6]\n",
    "# # test_day = [23,24,25,28]\n",
    "# error_in = []\n",
    "# for i in test_week:\n",
    "#     test = data[data.id_week== i+1]\n",
    "#     y_test = test['outNums']\n",
    "    \n",
    "#     del test['id_week']\n",
    "#     del test['inNums']\n",
    "#     del test['outNums']\n",
    "    \n",
    "#     print('###############################outNums验证集',i)\n",
    "\n",
    "#     train = data[data.id_week<i]\n",
    "#     valid = data[data.id_week==i]\n",
    "#     y_train = train['outNums']\n",
    "#     y_valid = valid['outNums']\n",
    "    \n",
    "#     del train['inNums'],valid['inNums'],train['id_week']\n",
    "#     del train['outNums'],valid['outNums'],valid['id_week']\n",
    "    \n",
    "#     lgb_train = lgb.Dataset(train,y_train)\n",
    "#     lgb_evals  = lgb.Dataset(valid,y_valid,reference=lgb_train)\n",
    "    \n",
    "    \n",
    "#     gbm = lgb.train(params,\n",
    "#                 lgb_train,\n",
    "#                 num_boost_round=10000,\n",
    "#                 valid_sets=[lgb_train,lgb_evals],\n",
    "#                 valid_names=['train','valid'],\n",
    "#                 early_stopping_rounds=200,\n",
    "#                 verbose_eval=1000,\n",
    "#                 )\n",
    "    \n",
    "#     prediction_in = gbm.predict(test)\n",
    "    \n",
    "\n",
    "#     error = mean_absolute_percentage_error(np.abs(np.round(prediction_in)),y_test)\n",
    "#     error_in.append(error)\n",
    "#     print('验证集：',i)\n",
    "#     print('验证集下一天作为测试集的误差为：',error)\n",
    "        \n",
    "# print('outNums的CV验证分数：',np.mean(error_in))"
   ]
  },
  {
   "cell_type": "markdown",
   "metadata": {},
   "source": [
    "#log\n",
    "inNums的CV验证分数： 2.6328033937801556\n",
    "outNums的CV验证分数： 1.569054964432997\n",
    "#######更改了参数\n",
    "inNums的CV验证分数： 2.5018023015473205\n",
    "outNums的CV验证分数： 1.5004474075321914\n",
    "########"
   ]
  }
 ],
 "metadata": {
  "kernelspec": {
   "display_name": "Python 3",
   "language": "python",
   "name": "python3"
  },
  "language_info": {
   "codemirror_mode": {
    "name": "ipython",
    "version": 3
   },
   "file_extension": ".py",
   "mimetype": "text/x-python",
   "name": "python",
   "nbconvert_exporter": "python",
   "pygments_lexer": "ipython3",
   "version": "3.6.5"
  }
 },
 "nbformat": 4,
 "nbformat_minor": 2
}
