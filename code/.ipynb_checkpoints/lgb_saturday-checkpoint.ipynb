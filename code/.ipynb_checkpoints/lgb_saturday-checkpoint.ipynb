{
 "cells": [
  {
   "cell_type": "code",
   "execution_count": 168,
   "metadata": {},
   "outputs": [],
   "source": [
    "import pandas as pd\n",
    "pd.options.display.max_columns = None\n",
    "import os\n",
    "import warnings\n",
    "warnings.filterwarnings('ignore')\n",
    "import datetime\n",
    "import numpy as np\n",
    "import lightgbm as lgb\n",
    "from sklearn.preprocessing import LabelEncoder\n",
    "from sklearn.metrics import mean_absolute_error"
   ]
  },
  {
   "cell_type": "code",
   "execution_count": 169,
   "metadata": {},
   "outputs": [],
   "source": [
    "import matplotlib.pyplot as plt"
   ]
  },
  {
   "cell_type": "code",
   "execution_count": 170,
   "metadata": {},
   "outputs": [],
   "source": [
    "#提取base_feature\n",
    "def get_base_feature(df):\n",
    "    df['time'] = df.START_DATE.apply(lambda x:x[:19])\n",
    "    df['time'] = pd.to_datetime(df['time'],format='%Y-%m-%d-%H.%M.%S')\n",
    "    timedelta = df['time'] - pd.datetime(df['time'].dt.year[0],df['time'].dt.month[0],df['time'].dt.day[0],0,0,0)\n",
    "    df['30_min'] = timedelta.dt.seconds/1800\n",
    "    df['30_min'] = df['30_min'].astype(int)\n",
    "    df['20_min'] = timedelta.dt.seconds/1200\n",
    "    df['20_min'] = df['20_min'].astype(int)\n",
    "    df['10_min'] = timedelta.dt.seconds/600\n",
    "    df['10_min'] = df['10_min'].astype(int)\n",
    "    df['5_min'] = timedelta.dt.seconds/300\n",
    "    df['5_min'] = df['5_min'].astype(int)\n",
    "#     df['3_min'] = timedelta.dt.seconds/300\n",
    "#     df['3_min'] = df['3_min'].astype(int)\n",
    "\n",
    "    df['hour'] = df.START_DATE.apply(lambda x:int(x[11:13]))\n",
    "    \n",
    "    \n",
    "    df.TRADE_TYPE[df.TRADE_TYPE==21] = 1\n",
    "    df.TRADE_TYPE[df.TRADE_TYPE==22] = 0\n",
    "    \n",
    "    result = df.groupby(['date','TRADE_ADDRESS','INDUSTRY_CODE','CARD_TYPE_EX','CARD_TYPE','SAM_ID','TERMINAL_ID','RECORD_ROW','30_min','20_min','10_min','5_min']).TRADE_TYPE.agg(['count','sum']).reset_index()\n",
    "    result['inNums'] = result['sum']\n",
    "    result['outNums'] = result['count'] - result['sum']\n",
    "    del result['count'],result['sum']\n",
    "    \n",
    "    result.date = pd.to_datetime(result.date)\n",
    "    result['week'] = result.date.dt.dayofweek+1\n",
    "    del df\n",
    "    return result"
   ]
  },
  {
   "cell_type": "code",
   "execution_count": 171,
   "metadata": {},
   "outputs": [],
   "source": [
    "#进一步提取特征\n",
    "def more_feature(result):\n",
    "    tmp = result.copy()\n",
    "\n",
    "    tmp = result.groupby(['TRADE_ADDRESS'], as_index=False)['inNums'].agg({\n",
    "                                                                        'inNums_ID_w_max'    : 'max',\n",
    "                                                                        'inNums_ID_w_min'    : 'min', \n",
    "                                                                        'inNums_ID_w_mean'   : 'mean',\n",
    "                                                                        'inNums_ID_w_sum'   : 'sum'\n",
    "                                                                        })\n",
    "    result = result.merge(tmp, on=['TRADE_ADDRESS'], how='left')\n",
    "\n",
    "    tmp = result.groupby(['TRADE_ADDRESS','week','30_min'], as_index=False)['inNums'].agg({\n",
    "                                                                        'inNums_ID_w_h_3_max'    : 'max',\n",
    "                                                                        'inNums_ID_w_h_3_min'    : 'min', \n",
    "                                                                        'inNums_ID_w_h_3_mean'   : 'mean',\n",
    "                                                                        'inNums_ID_w_h_3_sum'   : 'sum'\n",
    "                                                                        })\n",
    "    result = result.merge(tmp,on=['TRADE_ADDRESS','week','30_min'],how = 'left')\n",
    "\n",
    "    tmp = result.groupby(['TRADE_ADDRESS','20_min'], as_index=False)['inNums'].agg({\n",
    "                                                                        'inNums_ID_w_h_2_max'    : 'max',\n",
    "                                                                        'inNums_ID_w_h_2_min'    : 'min', \n",
    "                                                                        'inNums_ID_w_h_2_mean'   : 'mean',\n",
    "                                                                        'inNums_ID_w_h_2_sum'   : 'sum',      \n",
    "                                                                \n",
    "                                                                        })\n",
    "    result = result.merge(tmp,on=['TRADE_ADDRESS','20_min'],how = 'left')\n",
    "    \n",
    "    tmp = result.groupby(['TRADE_ADDRESS','5_min'], as_index=False)['inNums'].agg({\n",
    "                                                                        'inNums_ID_w_h_5_max'    : 'max',\n",
    "                                                                        'inNums_ID_w_h_5_min'    : 'min', \n",
    "                                                                        'inNums_ID_w_h_5_mean'    : 'mean',\n",
    "                                                                        'inNums_ID_w_h_5_sum'   : 'sum'\n",
    "                                                                        })\n",
    "    result = result.merge(tmp,on=['TRADE_ADDRESS','5_min'],how = 'left')\n",
    "    \n",
    "    \n",
    "    \n",
    "    ###出站与进站类似\n",
    "\n",
    "    \n",
    "    \n",
    "    tmp = result.groupby(['TRADE_ADDRESS'], as_index=False)['outNums'].agg({\n",
    "                                                                        'outNums_ID_max'    : 'max',\n",
    "                                                                        'outNums_ID_min'    : 'min',\n",
    "                                                                        'outNums_ID_mean'   : 'mean',\n",
    "                                                                        'outNums_ID_sum'   : 'sum'\n",
    "                                                                        })\n",
    "    result = result.merge(tmp, on=['TRADE_ADDRESS'], how='left')\n",
    "    \n",
    "\n",
    "\n",
    "    ####按照week计算每个站口每小时的进站人数\n",
    "    tmp = result.groupby(['TRADE_ADDRESS','30_min'], as_index=False)['outNums'].agg({\n",
    "                                                                       \n",
    "                                                                        'outNums_ID_w_h_3_max'    : 'max', \n",
    "                                                                        'outNums_ID_w_h_3_min'    : 'min', \n",
    "                                                                        'outNums_ID_w_h_3_mean'    : 'mean', \n",
    "                                                                        'outNums_ID_w_h_3_sum'    : 'sum', \n",
    "                                                           \n",
    "                                                                        })\n",
    "    result = result.merge(tmp,on=['TRADE_ADDRESS','30_min'],how = 'left')\n",
    "    #20\n",
    "    tmp = result.groupby(['TRADE_ADDRESS','20_min'], as_index=False)['outNums'].agg({\n",
    "                                                              \n",
    "                                                                        'outNums_ID_w_h_2_max'    : 'max', \n",
    "                                                                        'outNums_ID_w_h_2_min'    : 'min', \n",
    "                                                                        'outNums_ID_w_h_2_mean'    : 'mean', \n",
    "                                                                        'outNums_ID_w_h_2_sum'    : 'sum', \n",
    "                                                    \n",
    "                                         \n",
    "                                                                        })\n",
    "    result = result.merge(tmp,on=['TRADE_ADDRESS','20_min'],how = 'left')\n",
    "\n",
    "    tmp = result.groupby(['TRADE_ADDRESS','5_min'], as_index=False)['outNums'].agg({\n",
    "                                                  \n",
    "                                                                        'outNums_ID_w_h_5_max'   : 'max',\n",
    "                                                                        'outNums_ID_w_h_5_min'   : 'min',\n",
    "                                                                        'outNums_ID_w_h_5_mean'   : 'mean',\n",
    "                                                                        'outNums_ID_w_h_5_sum'   : 'sum',\n",
    "                                               \n",
    "                                                                        })\n",
    "    result = result.merge(tmp,on=['TRADE_ADDRESS','5_min'],how = 'left')\n",
    "    \n",
    "    return result"
   ]
  },
  {
   "cell_type": "code",
   "execution_count": 172,
   "metadata": {},
   "outputs": [],
   "source": [
    "path = '../dataofweek/'"
   ]
  },
  {
   "cell_type": "code",
   "execution_count": 173,
   "metadata": {},
   "outputs": [],
   "source": [
    "data6 = pd.read_csv(path+'6_week.csv')"
   ]
  },
  {
   "cell_type": "code",
   "execution_count": 174,
   "metadata": {},
   "outputs": [],
   "source": [
    "data13 = pd.read_csv(path+'13_week.csv')"
   ]
  },
  {
   "cell_type": "code",
   "execution_count": 175,
   "metadata": {},
   "outputs": [],
   "source": [
    "data15 = pd.read_csv(path+'15_week.csv')"
   ]
  },
  {
   "cell_type": "code",
   "execution_count": 176,
   "metadata": {},
   "outputs": [],
   "source": [
    "data16 = pd.read_csv(path+'16_week.csv')"
   ]
  },
  {
   "cell_type": "code",
   "execution_count": 181,
   "metadata": {},
   "outputs": [],
   "source": [
    "data6.date = pd.to_datetime(data6.date)\n",
    "data6['week'] = data6.date.dt.dayofweek+1"
   ]
  },
  {
   "cell_type": "code",
   "execution_count": 182,
   "metadata": {},
   "outputs": [],
   "source": [
    "df66 = data6[data6.week==6]\n",
    "df136 = data13[data13.week==6]\n",
    "df156 = data15[data15.week==6]\n",
    "df166 = data16[data16.week==6]"
   ]
  },
  {
   "cell_type": "code",
   "execution_count": 183,
   "metadata": {},
   "outputs": [],
   "source": [
    "del data15,data16,data13,data6"
   ]
  },
  {
   "cell_type": "code",
   "execution_count": 184,
   "metadata": {},
   "outputs": [],
   "source": [
    "data = pd.concat([df66,df136],axis=0,ignore_index=True)\n",
    "data = pd.concat([data,df156],axis=0,ignore_index=True)\n",
    "data = pd.concat([data,df166],axis=0,ignore_index=True)"
   ]
  },
  {
   "cell_type": "code",
   "execution_count": 185,
   "metadata": {},
   "outputs": [],
   "source": [
    "le = LabelEncoder()"
   ]
  },
  {
   "cell_type": "code",
   "execution_count": 186,
   "metadata": {},
   "outputs": [],
   "source": [
    "data.SAM_ID = le.fit_transform(data.SAM_ID.values)"
   ]
  },
  {
   "cell_type": "code",
   "execution_count": 187,
   "metadata": {},
   "outputs": [],
   "source": [
    "data.TERMINAL_ID = le.fit_transform(data.TERMINAL_ID.values)"
   ]
  },
  {
   "cell_type": "code",
   "execution_count": 188,
   "metadata": {},
   "outputs": [],
   "source": [
    "data = get_base_feature(data)"
   ]
  },
  {
   "cell_type": "code",
   "execution_count": 189,
   "metadata": {},
   "outputs": [],
   "source": [
    "data = more_feature(data)"
   ]
  },
  {
   "cell_type": "code",
   "execution_count": 190,
   "metadata": {},
   "outputs": [
    {
     "data": {
      "text/plain": [
       "(2363490, 47)"
      ]
     },
     "execution_count": 190,
     "metadata": {},
     "output_type": "execute_result"
    }
   ],
   "source": [
    "data.shape"
   ]
  },
  {
   "cell_type": "code",
   "execution_count": 191,
   "metadata": {},
   "outputs": [],
   "source": [
    "prevent = data.copy()"
   ]
  },
  {
   "cell_type": "code",
   "execution_count": 192,
   "metadata": {},
   "outputs": [
    {
     "name": "stdout",
     "output_type": "stream",
     "text": [
      "INDUSTRY_CODE 0.9642917888376934\n",
      "week 1.0\n",
      "inNums_ID_w_min 1.0\n",
      "inNums_ID_w_h_3_max 0.9285459214974465\n",
      "inNums_ID_w_h_2_max 0.9354721196197149\n",
      "inNums_ID_w_h_5_min 0.9993822694405308\n",
      "outNums_ID_min 1.0\n",
      "outNums_ID_w_h_3_min 0.9998976090442524\n",
      "outNums_ID_w_h_2_min 0.9998959166317607\n"
     ]
    }
   ],
   "source": [
    "#删除类别列别超过90%的列\n",
    "cols = list(data.columns)\n",
    "for col in cols:\n",
    "    rate = data[col].value_counts(normalize = True,dropna = False).values[0]\n",
    "    if (rate>0.9):\n",
    "        cols.remove(col)\n",
    "        print(col,rate)\n",
    "data = data[cols]"
   ]
  },
  {
   "cell_type": "code",
   "execution_count": 193,
   "metadata": {},
   "outputs": [],
   "source": [
    "columns = [ 'date',\n",
    "    'TRADE_ADDRESS',\n",
    " 'CARD_TYPE_EX',\n",
    " 'CARD_TYPE',\n",
    " 'SAM_ID',\n",
    " 'TERMINAL_ID',\n",
    " 'RECORD_ROW',\n",
    " '30_min',\n",
    " '20_min',\n",
    " '10_min',\n",
    " '5_min',\n",
    " 'inNums',\n",
    " 'outNums',\n",
    " 'inNums_ID_w_mean',\n",
    " 'inNums_ID_w_sum',\n",
    "\n",
    " 'inNums_ID_w_h_3_mean',\n",
    " 'inNums_ID_w_h_3_sum',\n",
    "\n",
    " 'inNums_ID_w_h_2_mean',\n",
    " 'inNums_ID_w_h_2_sum',\n",
    " 'inNums_ID_w_h_5_max',\n",
    " 'inNums_ID_w_h_5_mean',\n",
    " 'inNums_ID_w_h_5_sum',\n",
    " 'outNums_ID_max',\n",
    " 'outNums_ID_mean',\n",
    " 'outNums_ID_sum',\n",
    " 'outNums_ID_w_h_3_mean',\n",
    " 'outNums_ID_w_h_3_sum',\n",
    " 'outNums_ID_w_h_2_max',\n",
    " 'outNums_ID_w_h_2_mean',\n",
    " 'outNums_ID_w_h_2_sum',\n",
    " 'outNums_ID_w_h_5_max',\n",
    " 'outNums_ID_w_h_5_min',\n",
    " 'outNums_ID_w_h_5_mean',\n",
    " 'outNums_ID_w_h_5_sum']"
   ]
  },
  {
   "cell_type": "code",
   "execution_count": 194,
   "metadata": {},
   "outputs": [],
   "source": [
    "data = data[columns]"
   ]
  },
  {
   "cell_type": "code",
   "execution_count": 195,
   "metadata": {},
   "outputs": [
    {
     "data": {
      "text/plain": [
       "array(['2015-09-12T00:00:00.000000000', '2015-10-31T00:00:00.000000000',\n",
       "       '2015-11-14T00:00:00.000000000', '2015-11-21T00:00:00.000000000'],\n",
       "      dtype='datetime64[ns]')"
      ]
     },
     "execution_count": 195,
     "metadata": {},
     "output_type": "execute_result"
    }
   ],
   "source": [
    "data.date.unique()"
   ]
  },
  {
   "cell_type": "code",
   "execution_count": 196,
   "metadata": {},
   "outputs": [],
   "source": [
    "sub = data[data.date=='2015-11-21']"
   ]
  },
  {
   "cell_type": "code",
   "execution_count": 197,
   "metadata": {},
   "outputs": [],
   "source": [
    "#lgb参数\n",
    "params = {\n",
    "    'boosting_type': 'gbdt',\n",
    "    'objective': 'regression',\n",
    "    'metric': 'mae',\n",
    "    'num_leaves': 63,\n",
    "    'learning_rate': 0.01,\n",
    "    'feature_fraction': 0.8,\n",
    "    'bagging_fraction': 0.9,\n",
    "    'bagging_seed':0,\n",
    "    'bagging_freq': 1,\n",
    "    'verbose': 1,\n",
    "    'reg_alpha':1,\n",
    "    'reg_lambda':2,\n",
    "    'min_child_weight':6\n",
    "}"
   ]
  },
  {
   "cell_type": "code",
   "execution_count": 243,
   "metadata": {},
   "outputs": [],
   "source": [
    "train_in = data[data.date<='2015-10-31']\n",
    "y_train = train_in['inNums']\n",
    "del train_in['inNums'],train_in['outNums']\n",
    "del train_in['date']\n",
    "\n",
    "val_in = data[data.date=='2015-11-14']\n",
    "y_val = val_in['inNums']\n",
    "del val_in['inNums'],val_in['outNums']\n",
    "del val_in['date']\n",
    "\n",
    "\n",
    "test_in = data[data.date=='2015-11-21']\n",
    "y_test = test_in['inNums']\n",
    "del test_in['inNums'],test_in['outNums']\n",
    "del test_in['date']\n",
    "\n",
    "lgb_train = lgb.Dataset(train_in, y_train)\n",
    "lgb_evals = lgb.Dataset(val_in, y_val , reference=lgb_train)"
   ]
  },
  {
   "cell_type": "code",
   "execution_count": 282,
   "metadata": {},
   "outputs": [
    {
     "name": "stdout",
     "output_type": "stream",
     "text": [
      "Training until validation scores don't improve for 50 rounds.\n",
      "[1000]\ttrain's l1: 0.0180515\tvalid's l1: 0.0190681\n",
      "[2000]\ttrain's l1: 0.0104323\tvalid's l1: 0.0120635\n",
      "[3000]\ttrain's l1: 0.00775735\tvalid's l1: 0.00947538\n",
      "[4000]\ttrain's l1: 0.00637581\tvalid's l1: 0.00812739\n",
      "[5000]\ttrain's l1: 0.00557602\tvalid's l1: 0.00734084\n",
      "Did not meet early stopping. Best iteration is:\n",
      "[5000]\ttrain's l1: 0.00557602\tvalid's l1: 0.00734084\n"
     ]
    }
   ],
   "source": [
    "gbm = lgb.train(params,\n",
    "                lgb_train,\n",
    "                num_boost_round=5000,\n",
    "                valid_sets=[lgb_train,lgb_evals],\n",
    "                valid_names=['train','valid'],\n",
    "                early_stopping_rounds=50,\n",
    "                verbose_eval=1000,\n",
    "                )"
   ]
  },
  {
   "cell_type": "code",
   "execution_count": 283,
   "metadata": {},
   "outputs": [],
   "source": [
    "pre_in = gbm.predict(test_in,num_iteration=gbm.best_iteration)"
   ]
  },
  {
   "cell_type": "code",
   "execution_count": 284,
   "metadata": {},
   "outputs": [
    {
     "data": {
      "text/plain": [
       "0.008148315750950421"
      ]
     },
     "execution_count": 284,
     "metadata": {},
     "output_type": "execute_result"
    }
   ],
   "source": [
    "error_in = mean_absolute_error(pre_in,y_test)\n",
    "error_in"
   ]
  },
  {
   "cell_type": "code",
   "execution_count": 285,
   "metadata": {},
   "outputs": [],
   "source": [
    "sub['pre_in'] = pre_in"
   ]
  },
  {
   "cell_type": "code",
   "execution_count": 234,
   "metadata": {},
   "outputs": [],
   "source": [
    "train_out = data[data.date<='2015-10-31']\n",
    "y_train = train_out['outNums']\n",
    "del train_out['inNums'],train_out['outNums']\n",
    "del train_out['date']\n",
    "\n",
    "val_out = data[data.date=='2015-11-14']\n",
    "y_val = val_out['outNums']\n",
    "del val_out['inNums'],val_out['outNums']\n",
    "del val_out['date']\n",
    "\n",
    "test_out = data[data.date=='2015-11-21']\n",
    "y_test = test_out['outNums']\n",
    "del test_out['inNums'],test_out['outNums']\n",
    "del test_out['date']\n",
    "\n",
    "lgb_train = lgb.Dataset(train_out, y_train)\n",
    "lgb_evals = lgb.Dataset(val_out, y_val , reference=lgb_train)"
   ]
  },
  {
   "cell_type": "code",
   "execution_count": 235,
   "metadata": {},
   "outputs": [
    {
     "name": "stdout",
     "output_type": "stream",
     "text": [
      "Training until validation scores don't improve for 50 rounds.\n",
      "[1000]\ttrain's l1: 0.0195589\tvalid's l1: 0.0204507\n",
      "[2000]\ttrain's l1: 0.012208\tvalid's l1: 0.0135466\n",
      "[3000]\ttrain's l1: 0.0099156\tvalid's l1: 0.0112983\n",
      "[4000]\ttrain's l1: 0.0087007\tvalid's l1: 0.0100562\n",
      "[5000]\ttrain's l1: 0.00803796\tvalid's l1: 0.00936787\n",
      "[6000]\ttrain's l1: 0.00764037\tvalid's l1: 0.00897312\n",
      "[7000]\ttrain's l1: 0.00733804\tvalid's l1: 0.00868276\n",
      "[8000]\ttrain's l1: 0.00713545\tvalid's l1: 0.00849589\n",
      "[9000]\ttrain's l1: 0.0069782\tvalid's l1: 0.00835322\n",
      "[10000]\ttrain's l1: 0.00685365\tvalid's l1: 0.00824813\n",
      "[11000]\ttrain's l1: 0.00675162\tvalid's l1: 0.00815915\n",
      "[12000]\ttrain's l1: 0.00666295\tvalid's l1: 0.00808559\n",
      "[13000]\ttrain's l1: 0.00659721\tvalid's l1: 0.00803265\n",
      "[14000]\ttrain's l1: 0.00653625\tvalid's l1: 0.00798969\n",
      "[15000]\ttrain's l1: 0.00648104\tvalid's l1: 0.00794984\n",
      "[16000]\ttrain's l1: 0.00643332\tvalid's l1: 0.0079151\n",
      "Early stopping, best iteration is:\n",
      "[16610]\ttrain's l1: 0.00640732\tvalid's l1: 0.00789572\n"
     ]
    }
   ],
   "source": [
    "gbm1 = lgb.train(params,\n",
    "                lgb_train,\n",
    "                num_boost_round=16000,\n",
    "                valid_sets=[lgb_train,lgb_evals],\n",
    "                valid_names=['train','valid'],\n",
    "                early_stopping_rounds=50,\n",
    "                verbose_eval=1000,\n",
    "                )"
   ]
  },
  {
   "cell_type": "code",
   "execution_count": 236,
   "metadata": {},
   "outputs": [],
   "source": [
    "pre_out = gbm1.predict(test_out,num_iteration=gbm1.best_iteration)"
   ]
  },
  {
   "cell_type": "code",
   "execution_count": 237,
   "metadata": {},
   "outputs": [
    {
     "data": {
      "text/plain": [
       "0.008952359846960956"
      ]
     },
     "execution_count": 237,
     "metadata": {},
     "output_type": "execute_result"
    }
   ],
   "source": [
    "mean_absolute_error(pre_out,y_test)"
   ]
  },
  {
   "cell_type": "code",
   "execution_count": 238,
   "metadata": {},
   "outputs": [],
   "source": [
    "sub['pre_out'] = pre_out"
   ]
  },
  {
   "cell_type": "code",
   "execution_count": 286,
   "metadata": {},
   "outputs": [],
   "source": [
    "sub1 = sub.groupby(['date','TRADE_ADDRESS']).pre_in.agg({'inNums':'sum'}).reset_index()\n",
    "sub2 = sub.groupby(['date','TRADE_ADDRESS']).pre_out.agg({'outNums':'sum'}).reset_index()\n",
    "sub_result = sub1.merge(sub2,on = ['date','TRADE_ADDRESS'],how='left')\n",
    "sub_result['flow'] = sub_result.inNums + sub_result.outNums\n",
    "sub_result['round_pre'] = np.round(sub_result.flow)\n",
    "sub_result['round_in'] = np.round(sub_result.inNums)\n",
    "sub_result['round_out'] = np.round(sub_result.outNums)"
   ]
  },
  {
   "cell_type": "code",
   "execution_count": 287,
   "metadata": {},
   "outputs": [],
   "source": [
    "real1 = sub.groupby(['date','TRADE_ADDRESS']).inNums.agg({'inNums':'sum'}).reset_index()\n",
    "real2 = sub.groupby(['date','TRADE_ADDRESS']).outNums.agg({'outNums':'sum'}).reset_index()\n",
    "real = real1.merge(real2,on = ['date','TRADE_ADDRESS'],how='left')\n",
    "real['flow'] = real.inNums + real.outNums"
   ]
  },
  {
   "cell_type": "code",
   "execution_count": 288,
   "metadata": {},
   "outputs": [],
   "source": [
    "error=mean_absolute_error(sub_result.round_pre,real.flow)"
   ]
  },
  {
   "cell_type": "code",
   "execution_count": 289,
   "metadata": {},
   "outputs": [
    {
     "data": {
      "text/plain": [
       "20.65"
      ]
     },
     "execution_count": 289,
     "metadata": {},
     "output_type": "execute_result"
    }
   ],
   "source": [
    "error"
   ]
  },
  {
   "cell_type": "code",
   "execution_count": 279,
   "metadata": {},
   "outputs": [
    {
     "data": {
      "text/html": [
       "<div>\n",
       "<style scoped>\n",
       "    .dataframe tbody tr th:only-of-type {\n",
       "        vertical-align: middle;\n",
       "    }\n",
       "\n",
       "    .dataframe tbody tr th {\n",
       "        vertical-align: top;\n",
       "    }\n",
       "\n",
       "    .dataframe thead th {\n",
       "        text-align: right;\n",
       "    }\n",
       "</style>\n",
       "<table border=\"1\" class=\"dataframe\">\n",
       "  <thead>\n",
       "    <tr style=\"text-align: right;\">\n",
       "      <th></th>\n",
       "      <th>date</th>\n",
       "      <th>TRADE_ADDRESS</th>\n",
       "      <th>inNums</th>\n",
       "      <th>outNums</th>\n",
       "      <th>flow</th>\n",
       "      <th>round_pre</th>\n",
       "      <th>round_in</th>\n",
       "      <th>round_out</th>\n",
       "    </tr>\n",
       "  </thead>\n",
       "  <tbody>\n",
       "    <tr>\n",
       "      <th>0</th>\n",
       "      <td>2015-11-21</td>\n",
       "      <td>121</td>\n",
       "      <td>16703.641621</td>\n",
       "      <td>13613.424320</td>\n",
       "      <td>30317.065941</td>\n",
       "      <td>30317.0</td>\n",
       "      <td>16704.0</td>\n",
       "      <td>13613.0</td>\n",
       "    </tr>\n",
       "    <tr>\n",
       "      <th>1</th>\n",
       "      <td>2015-11-21</td>\n",
       "      <td>123</td>\n",
       "      <td>6412.979949</td>\n",
       "      <td>5841.503991</td>\n",
       "      <td>12254.483940</td>\n",
       "      <td>12254.0</td>\n",
       "      <td>6413.0</td>\n",
       "      <td>5842.0</td>\n",
       "    </tr>\n",
       "    <tr>\n",
       "      <th>2</th>\n",
       "      <td>2015-11-21</td>\n",
       "      <td>125</td>\n",
       "      <td>10482.831749</td>\n",
       "      <td>13726.364377</td>\n",
       "      <td>24209.196125</td>\n",
       "      <td>24209.0</td>\n",
       "      <td>10483.0</td>\n",
       "      <td>13726.0</td>\n",
       "    </tr>\n",
       "    <tr>\n",
       "      <th>3</th>\n",
       "      <td>2015-11-21</td>\n",
       "      <td>127</td>\n",
       "      <td>12120.961681</td>\n",
       "      <td>12090.220170</td>\n",
       "      <td>24211.181851</td>\n",
       "      <td>24211.0</td>\n",
       "      <td>12121.0</td>\n",
       "      <td>12090.0</td>\n",
       "    </tr>\n",
       "    <tr>\n",
       "      <th>4</th>\n",
       "      <td>2015-11-21</td>\n",
       "      <td>129</td>\n",
       "      <td>7645.239523</td>\n",
       "      <td>7681.754874</td>\n",
       "      <td>15326.994398</td>\n",
       "      <td>15327.0</td>\n",
       "      <td>7645.0</td>\n",
       "      <td>7682.0</td>\n",
       "    </tr>\n",
       "    <tr>\n",
       "      <th>5</th>\n",
       "      <td>2015-11-21</td>\n",
       "      <td>131</td>\n",
       "      <td>8212.620644</td>\n",
       "      <td>8614.374542</td>\n",
       "      <td>16826.995186</td>\n",
       "      <td>16827.0</td>\n",
       "      <td>8213.0</td>\n",
       "      <td>8614.0</td>\n",
       "    </tr>\n",
       "    <tr>\n",
       "      <th>6</th>\n",
       "      <td>2015-11-21</td>\n",
       "      <td>133</td>\n",
       "      <td>11440.484917</td>\n",
       "      <td>11763.455595</td>\n",
       "      <td>23203.940511</td>\n",
       "      <td>23204.0</td>\n",
       "      <td>11440.0</td>\n",
       "      <td>11763.0</td>\n",
       "    </tr>\n",
       "    <tr>\n",
       "      <th>7</th>\n",
       "      <td>2015-11-21</td>\n",
       "      <td>135</td>\n",
       "      <td>25964.823539</td>\n",
       "      <td>29896.064015</td>\n",
       "      <td>55860.887553</td>\n",
       "      <td>55861.0</td>\n",
       "      <td>25965.0</td>\n",
       "      <td>29896.0</td>\n",
       "    </tr>\n",
       "  </tbody>\n",
       "</table>\n",
       "</div>"
      ],
      "text/plain": [
       "        date  TRADE_ADDRESS        inNums       outNums          flow  \\\n",
       "0 2015-11-21            121  16703.641621  13613.424320  30317.065941   \n",
       "1 2015-11-21            123   6412.979949   5841.503991  12254.483940   \n",
       "2 2015-11-21            125  10482.831749  13726.364377  24209.196125   \n",
       "3 2015-11-21            127  12120.961681  12090.220170  24211.181851   \n",
       "4 2015-11-21            129   7645.239523   7681.754874  15326.994398   \n",
       "5 2015-11-21            131   8212.620644   8614.374542  16826.995186   \n",
       "6 2015-11-21            133  11440.484917  11763.455595  23203.940511   \n",
       "7 2015-11-21            135  25964.823539  29896.064015  55860.887553   \n",
       "\n",
       "   round_pre  round_in  round_out  \n",
       "0    30317.0   16704.0    13613.0  \n",
       "1    12254.0    6413.0     5842.0  \n",
       "2    24209.0   10483.0    13726.0  \n",
       "3    24211.0   12121.0    12090.0  \n",
       "4    15327.0    7645.0     7682.0  \n",
       "5    16827.0    8213.0     8614.0  \n",
       "6    23204.0   11440.0    11763.0  \n",
       "7    55861.0   25965.0    29896.0  "
      ]
     },
     "execution_count": 279,
     "metadata": {},
     "output_type": "execute_result"
    }
   ],
   "source": [
    "sub_result.head(8)"
   ]
  },
  {
   "cell_type": "code",
   "execution_count": 280,
   "metadata": {},
   "outputs": [
    {
     "data": {
      "text/html": [
       "<div>\n",
       "<style scoped>\n",
       "    .dataframe tbody tr th:only-of-type {\n",
       "        vertical-align: middle;\n",
       "    }\n",
       "\n",
       "    .dataframe tbody tr th {\n",
       "        vertical-align: top;\n",
       "    }\n",
       "\n",
       "    .dataframe thead th {\n",
       "        text-align: right;\n",
       "    }\n",
       "</style>\n",
       "<table border=\"1\" class=\"dataframe\">\n",
       "  <thead>\n",
       "    <tr style=\"text-align: right;\">\n",
       "      <th></th>\n",
       "      <th>date</th>\n",
       "      <th>TRADE_ADDRESS</th>\n",
       "      <th>inNums</th>\n",
       "      <th>outNums</th>\n",
       "      <th>flow</th>\n",
       "    </tr>\n",
       "  </thead>\n",
       "  <tbody>\n",
       "    <tr>\n",
       "      <th>0</th>\n",
       "      <td>2015-11-21</td>\n",
       "      <td>121</td>\n",
       "      <td>16727</td>\n",
       "      <td>13602</td>\n",
       "      <td>30329</td>\n",
       "    </tr>\n",
       "    <tr>\n",
       "      <th>1</th>\n",
       "      <td>2015-11-21</td>\n",
       "      <td>123</td>\n",
       "      <td>6411</td>\n",
       "      <td>5836</td>\n",
       "      <td>12247</td>\n",
       "    </tr>\n",
       "    <tr>\n",
       "      <th>2</th>\n",
       "      <td>2015-11-21</td>\n",
       "      <td>125</td>\n",
       "      <td>10670</td>\n",
       "      <td>13562</td>\n",
       "      <td>24232</td>\n",
       "    </tr>\n",
       "    <tr>\n",
       "      <th>3</th>\n",
       "      <td>2015-11-21</td>\n",
       "      <td>127</td>\n",
       "      <td>12142</td>\n",
       "      <td>12060</td>\n",
       "      <td>24202</td>\n",
       "    </tr>\n",
       "    <tr>\n",
       "      <th>4</th>\n",
       "      <td>2015-11-21</td>\n",
       "      <td>129</td>\n",
       "      <td>7696</td>\n",
       "      <td>7636</td>\n",
       "      <td>15332</td>\n",
       "    </tr>\n",
       "    <tr>\n",
       "      <th>5</th>\n",
       "      <td>2015-11-21</td>\n",
       "      <td>131</td>\n",
       "      <td>8549</td>\n",
       "      <td>8311</td>\n",
       "      <td>16860</td>\n",
       "    </tr>\n",
       "    <tr>\n",
       "      <th>6</th>\n",
       "      <td>2015-11-21</td>\n",
       "      <td>133</td>\n",
       "      <td>11456</td>\n",
       "      <td>11738</td>\n",
       "      <td>23194</td>\n",
       "    </tr>\n",
       "    <tr>\n",
       "      <th>7</th>\n",
       "      <td>2015-11-21</td>\n",
       "      <td>135</td>\n",
       "      <td>26001</td>\n",
       "      <td>29903</td>\n",
       "      <td>55904</td>\n",
       "    </tr>\n",
       "  </tbody>\n",
       "</table>\n",
       "</div>"
      ],
      "text/plain": [
       "        date  TRADE_ADDRESS  inNums  outNums   flow\n",
       "0 2015-11-21            121   16727    13602  30329\n",
       "1 2015-11-21            123    6411     5836  12247\n",
       "2 2015-11-21            125   10670    13562  24232\n",
       "3 2015-11-21            127   12142    12060  24202\n",
       "4 2015-11-21            129    7696     7636  15332\n",
       "5 2015-11-21            131    8549     8311  16860\n",
       "6 2015-11-21            133   11456    11738  23194\n",
       "7 2015-11-21            135   26001    29903  55904"
      ]
     },
     "execution_count": 280,
     "metadata": {},
     "output_type": "execute_result"
    }
   ],
   "source": [
    "real.head(8)"
   ]
  },
  {
   "cell_type": "code",
   "execution_count": 281,
   "metadata": {},
   "outputs": [],
   "source": [
    "re_path = '../result1/'\n",
    "sub_result.to_csv(re_path+'6_flow_pre_'+str('%.2f'%error)+'.csv',encoding='utf-8',index=False)\n",
    "real.to_csv(re_path+'6_flow_real.csv',encoding='utf-8',index=False)"
   ]
  },
  {
   "cell_type": "code",
   "execution_count": null,
   "metadata": {},
   "outputs": [],
   "source": []
  }
 ],
 "metadata": {
  "kernelspec": {
   "display_name": "Python 3",
   "language": "python",
   "name": "python3"
  },
  "language_info": {
   "codemirror_mode": {
    "name": "ipython",
    "version": 3
   },
   "file_extension": ".py",
   "mimetype": "text/x-python",
   "name": "python",
   "nbconvert_exporter": "python",
   "pygments_lexer": "ipython3",
   "version": "3.6.5"
  }
 },
 "nbformat": 4,
 "nbformat_minor": 2
}
