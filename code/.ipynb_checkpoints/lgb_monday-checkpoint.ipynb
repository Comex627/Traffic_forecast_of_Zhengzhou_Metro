{
 "cells": [
  {
   "cell_type": "code",
   "execution_count": 2,
   "metadata": {},
   "outputs": [],
   "source": [
    "import pandas as pd\n",
    "pd.options.display.max_columns = None\n",
    "import os\n",
    "import warnings\n",
    "warnings.filterwarnings('ignore')\n",
    "import datetime\n",
    "import numpy as np\n",
    "import lightgbm as lgb\n",
    "from sklearn.preprocessing import LabelEncoder\n",
    "from sklearn.metrics import mean_absolute_error"
   ]
  },
  {
   "cell_type": "code",
   "execution_count": 3,
   "metadata": {},
   "outputs": [],
   "source": [
    "import matplotlib.pyplot as plt"
   ]
  },
  {
   "cell_type": "code",
   "execution_count": 4,
   "metadata": {},
   "outputs": [],
   "source": [
    "#提取base_feature\n",
    "def get_base_feature(df):\n",
    "    df['time'] = df.START_DATE.apply(lambda x:x[:19])\n",
    "    df['time'] = pd.to_datetime(df['time'],format='%Y-%m-%d-%H.%M.%S')\n",
    "    timedelta = df['time'] - pd.datetime(df['time'].dt.year[0],df['time'].dt.month[0],df['time'].dt.day[0],0,0,0)\n",
    "    df['30_min'] = timedelta.dt.seconds/1800\n",
    "    df['30_min'] = df['30_min'].astype(int)\n",
    "    df['20_min'] = timedelta.dt.seconds/1200\n",
    "    df['20_min'] = df['20_min'].astype(int)\n",
    "    df['10_min'] = timedelta.dt.seconds/600\n",
    "    df['10_min'] = df['10_min'].astype(int)\n",
    "    df['5_min'] = timedelta.dt.seconds/300\n",
    "    df['5_min'] = df['5_min'].astype(int)\n",
    "#     df['3_min'] = timedelta.dt.seconds/300\n",
    "#     df['3_min'] = df['3_min'].astype(int)\n",
    "\n",
    "    df['hour'] = df.START_DATE.apply(lambda x:int(x[11:13]))\n",
    "    \n",
    "    \n",
    "    df.TRADE_TYPE[df.TRADE_TYPE==21] = 1\n",
    "    df.TRADE_TYPE[df.TRADE_TYPE==22] = 0\n",
    "    \n",
    "    result = df.groupby(['date','TRADE_ADDRESS','INDUSTRY_CODE','CARD_TYPE_EX','CARD_TYPE','SAM_ID','TERMINAL_ID','RECORD_ROW','30_min','20_min','10_min','5_min']).TRADE_TYPE.agg(['count','sum']).reset_index()\n",
    "    result['inNums'] = result['sum']\n",
    "    result['outNums'] = result['count'] - result['sum']\n",
    "    del result['count'],result['sum']\n",
    "    \n",
    "    result.date = pd.to_datetime(result.date)\n",
    "    result['week'] = result.date.dt.dayofweek+1\n",
    "    del df\n",
    "    return result"
   ]
  },
  {
   "cell_type": "code",
   "execution_count": 5,
   "metadata": {},
   "outputs": [],
   "source": [
    "#进一步提取特征\n",
    "def more_feature(result):\n",
    "    tmp = result.copy()\n",
    "\n",
    "    tmp = result.groupby(['TRADE_ADDRESS'], as_index=False)['inNums'].agg({\n",
    "                                                                        'inNums_ID_w_max'    : 'max',\n",
    "                                                                        'inNums_ID_w_min'    : 'min', \n",
    "                                                                        'inNums_ID_w_mean'   : 'mean',\n",
    "                                                                        'inNums_ID_w_sum'   : 'sum'\n",
    "                                                                        })\n",
    "    result = result.merge(tmp, on=['TRADE_ADDRESS'], how='left')\n",
    "\n",
    "    tmp = result.groupby(['TRADE_ADDRESS','week','30_min'], as_index=False)['inNums'].agg({\n",
    "                                                                        'inNums_ID_w_h_3_max'    : 'max',\n",
    "                                                                        'inNums_ID_w_h_3_min'    : 'min', \n",
    "                                                                        'inNums_ID_w_h_3_mean'   : 'mean',\n",
    "                                                                        'inNums_ID_w_h_3_sum'   : 'sum'\n",
    "                                                                        })\n",
    "    result = result.merge(tmp,on=['TRADE_ADDRESS','week','30_min'],how = 'left')\n",
    "\n",
    "    tmp = result.groupby(['TRADE_ADDRESS','20_min'], as_index=False)['inNums'].agg({\n",
    "                                                                        'inNums_ID_w_h_2_max'    : 'max',\n",
    "                                                                        'inNums_ID_w_h_2_min'    : 'min', \n",
    "                                                                        'inNums_ID_w_h_2_mean'   : 'mean',\n",
    "                                                                        'inNums_ID_w_h_2_sum'   : 'sum',      \n",
    "                                                                \n",
    "                                                                        })\n",
    "    result = result.merge(tmp,on=['TRADE_ADDRESS','20_min'],how = 'left')\n",
    "    \n",
    "    tmp = result.groupby(['TRADE_ADDRESS','5_min'], as_index=False)['inNums'].agg({\n",
    "                                                                        'inNums_ID_w_h_5_max'    : 'max',\n",
    "                                                                        'inNums_ID_w_h_5_min'    : 'min', \n",
    "                                                                        'inNums_ID_w_h_5_mean'    : 'mean',\n",
    "                                                                        'inNums_ID_w_h_5_sum'   : 'sum'\n",
    "                                                                        })\n",
    "    result = result.merge(tmp,on=['TRADE_ADDRESS','5_min'],how = 'left')\n",
    "    \n",
    "    \n",
    "    \n",
    "    ###出站与进站类似\n",
    "\n",
    "    \n",
    "    \n",
    "    tmp = result.groupby(['TRADE_ADDRESS'], as_index=False)['outNums'].agg({\n",
    "                                                                        'outNums_ID_max'    : 'max',\n",
    "                                                                        'outNums_ID_min'    : 'min',\n",
    "                                                                        'outNums_ID_mean'   : 'mean',\n",
    "                                                                        'outNums_ID_sum'   : 'sum'\n",
    "                                                                        })\n",
    "    result = result.merge(tmp, on=['TRADE_ADDRESS'], how='left')\n",
    "    \n",
    "\n",
    "\n",
    "\n",
    "    tmp = result.groupby(['TRADE_ADDRESS','30_min'], as_index=False)['outNums'].agg({\n",
    "                                                                       \n",
    "                                                                        'outNums_ID_w_h_3_max'    : 'max', \n",
    "                                                                        'outNums_ID_w_h_3_min'    : 'min', \n",
    "                                                                        'outNums_ID_w_h_3_mean'    : 'mean',\n",
    "                                                                        'outNums_ID_w_h_3_sum'    : 'sum', \n",
    "                                                           \n",
    "                                                                        })\n",
    "    result = result.merge(tmp,on=['TRADE_ADDRESS','30_min'],how = 'left')\n",
    "\n",
    "    tmp = result.groupby(['TRADE_ADDRESS','20_min'], as_index=False)['outNums'].agg({\n",
    "                                                              \n",
    "                                                                        'outNums_ID_w_h_2_max'    : 'max', \n",
    "                                                                        'outNums_ID_w_h_2_min'    : 'min', \n",
    "                                                                        'outNums_ID_w_h_2_mean'    : 'mean', \n",
    "                                                                        'outNums_ID_w_h_2_sum'    : 'sum', \n",
    "                                                    \n",
    "                                         \n",
    "                                                                        })\n",
    "    result = result.merge(tmp,on=['TRADE_ADDRESS','20_min'],how = 'left')\n",
    "\n",
    "    tmp = result.groupby(['TRADE_ADDRESS','5_min'], as_index=False)['outNums'].agg({\n",
    "                                                  \n",
    "                                                                        'outNums_ID_w_h_5_max'   : 'max',\n",
    "                                                                        'outNums_ID_w_h_5_min'   : 'min',\n",
    "                                                                        'outNums_ID_w_h_5_mean'   : 'mean',\n",
    "                                                                        'outNums_ID_w_h_5_sum'   : 'sum',\n",
    "                                               \n",
    "                                                                        })\n",
    "    result = result.merge(tmp,on=['TRADE_ADDRESS','5_min'],how = 'left')\n",
    "    \n",
    "    return result"
   ]
  },
  {
   "cell_type": "code",
   "execution_count": 6,
   "metadata": {},
   "outputs": [],
   "source": [
    "path = '../dataofweek/'"
   ]
  },
  {
   "cell_type": "code",
   "execution_count": 7,
   "metadata": {},
   "outputs": [],
   "source": [
    "data12 = pd.read_csv(path+'12_week.csv')"
   ]
  },
  {
   "cell_type": "code",
   "execution_count": 8,
   "metadata": {},
   "outputs": [],
   "source": [
    "data15 = pd.read_csv(path+'15_week.csv')"
   ]
  },
  {
   "cell_type": "code",
   "execution_count": 9,
   "metadata": {},
   "outputs": [],
   "source": [
    "data16 = pd.read_csv(path+'16_week.csv')"
   ]
  },
  {
   "cell_type": "code",
   "execution_count": 10,
   "metadata": {},
   "outputs": [],
   "source": [
    "df125 = data12[data12.week==7]\n",
    "df155 = data15[data15.week==7]\n",
    "df165 = data16[data16.week==7]"
   ]
  },
  {
   "cell_type": "code",
   "execution_count": 11,
   "metadata": {},
   "outputs": [],
   "source": [
    "del data15,data16,data12"
   ]
  },
  {
   "cell_type": "code",
   "execution_count": 12,
   "metadata": {},
   "outputs": [],
   "source": [
    "data = pd.concat([df125,df155],axis=0,ignore_index=True)\n",
    "data = pd.concat([data,df165],axis=0,ignore_index=True)"
   ]
  },
  {
   "cell_type": "code",
   "execution_count": 13,
   "metadata": {},
   "outputs": [],
   "source": [
    "le = LabelEncoder()"
   ]
  },
  {
   "cell_type": "code",
   "execution_count": 14,
   "metadata": {},
   "outputs": [],
   "source": [
    "data.SAM_ID = le.fit_transform(data.SAM_ID.values)"
   ]
  },
  {
   "cell_type": "code",
   "execution_count": 15,
   "metadata": {},
   "outputs": [],
   "source": [
    "data.TERMINAL_ID = le.fit_transform(data.TERMINAL_ID.values)"
   ]
  },
  {
   "cell_type": "code",
   "execution_count": 16,
   "metadata": {},
   "outputs": [],
   "source": [
    "data = get_base_feature(data)"
   ]
  },
  {
   "cell_type": "code",
   "execution_count": 17,
   "metadata": {},
   "outputs": [],
   "source": [
    "data = more_feature(data)"
   ]
  },
  {
   "cell_type": "code",
   "execution_count": 18,
   "metadata": {},
   "outputs": [
    {
     "data": {
      "text/plain": [
       "(1624405, 47)"
      ]
     },
     "execution_count": 18,
     "metadata": {},
     "output_type": "execute_result"
    }
   ],
   "source": [
    "data.shape"
   ]
  },
  {
   "cell_type": "code",
   "execution_count": 19,
   "metadata": {},
   "outputs": [],
   "source": [
    "prevent = data.copy()"
   ]
  },
  {
   "cell_type": "code",
   "execution_count": 20,
   "metadata": {},
   "outputs": [
    {
     "name": "stdout",
     "output_type": "stream",
     "text": [
      "INDUSTRY_CODE 0.9643968099088589\n",
      "week 1.0\n",
      "inNums_ID_w_min 1.0\n",
      "inNums_ID_w_h_3_min 0.9999525980282011\n",
      "inNums_ID_w_h_2_max 0.9063478627559014\n",
      "inNums_ID_w_h_5_min 0.9991042874160077\n",
      "outNums_ID_min 1.0\n",
      "outNums_ID_w_h_3_min 0.9998848809256312\n",
      "outNums_ID_w_h_2_min 0.9998867277557013\n"
     ]
    }
   ],
   "source": [
    "#删除类别列别超过90%的列\n",
    "cols = list(data.columns)\n",
    "for col in cols:\n",
    "    rate = data[col].value_counts(normalize = True,dropna = False).values[0]\n",
    "    if (rate>0.9):\n",
    "        cols.remove(col)\n",
    "        print(col,rate)\n",
    "data = data[cols]"
   ]
  },
  {
   "cell_type": "code",
   "execution_count": 21,
   "metadata": {},
   "outputs": [],
   "source": [
    "columns = [ 'date',\n",
    "    'TRADE_ADDRESS',\n",
    " 'CARD_TYPE_EX',\n",
    " 'CARD_TYPE',\n",
    " 'SAM_ID',\n",
    " 'TERMINAL_ID',\n",
    " 'RECORD_ROW',\n",
    " '30_min',\n",
    " '20_min',\n",
    " '10_min',\n",
    " '5_min',\n",
    " 'inNums',\n",
    " 'outNums',\n",
    " 'inNums_ID_w_mean',\n",
    " 'inNums_ID_w_sum',\n",
    "\n",
    " 'inNums_ID_w_h_3_mean',\n",
    " 'inNums_ID_w_h_3_sum',\n",
    "\n",
    " 'inNums_ID_w_h_2_mean',\n",
    " 'inNums_ID_w_h_2_sum',\n",
    " 'inNums_ID_w_h_5_max',\n",
    " 'inNums_ID_w_h_5_mean',\n",
    " 'inNums_ID_w_h_5_sum',\n",
    " 'outNums_ID_max',\n",
    " 'outNums_ID_mean',\n",
    " 'outNums_ID_sum',\n",
    " 'outNums_ID_w_h_3_mean',\n",
    " 'outNums_ID_w_h_3_sum',\n",
    " 'outNums_ID_w_h_2_max',\n",
    " 'outNums_ID_w_h_2_mean',\n",
    " 'outNums_ID_w_h_2_sum',\n",
    " 'outNums_ID_w_h_5_max',\n",
    " 'outNums_ID_w_h_5_min',\n",
    " 'outNums_ID_w_h_5_mean',\n",
    " 'outNums_ID_w_h_5_sum']"
   ]
  },
  {
   "cell_type": "code",
   "execution_count": 22,
   "metadata": {},
   "outputs": [],
   "source": [
    "data = data[columns]"
   ]
  },
  {
   "cell_type": "code",
   "execution_count": 23,
   "metadata": {},
   "outputs": [
    {
     "data": {
      "text/plain": [
       "array(['2015-10-25T00:00:00.000000000', '2015-11-15T00:00:00.000000000',\n",
       "       '2015-11-22T00:00:00.000000000'], dtype='datetime64[ns]')"
      ]
     },
     "execution_count": 23,
     "metadata": {},
     "output_type": "execute_result"
    }
   ],
   "source": [
    "data.date.unique()"
   ]
  },
  {
   "cell_type": "code",
   "execution_count": 24,
   "metadata": {},
   "outputs": [],
   "source": [
    "sub = data[data.date=='2015-11-22']"
   ]
  },
  {
   "cell_type": "code",
   "execution_count": 25,
   "metadata": {},
   "outputs": [],
   "source": [
    "#lgb参数\n",
    "params = {\n",
    "    'boosting_type': 'gbdt',\n",
    "    'objective': 'regression',\n",
    "    'metric': 'mae',\n",
    "    'num_leaves': 63,\n",
    "    'learning_rate': 0.01,\n",
    "    'feature_fraction': 0.8,\n",
    "    'bagging_fraction': 0.9,\n",
    "    'bagging_seed':0,\n",
    "    'bagging_freq': 1,\n",
    "    'verbose': 1,\n",
    "    'reg_alpha':1,\n",
    "    'reg_lambda':2,\n",
    "    'min_child_weight':6\n",
    "}"
   ]
  },
  {
   "cell_type": "code",
   "execution_count": 91,
   "metadata": {},
   "outputs": [],
   "source": [
    "train_in = data[data.date=='2015-11-15']\n",
    "y_train = train_in['inNums']\n",
    "del train_in['inNums'],train_in['outNums']\n",
    "del train_in['date']\n",
    "\n",
    "val_in = data[data.date=='2015-10-25']\n",
    "y_val = val_in['inNums']\n",
    "del val_in['inNums'],val_in['outNums']\n",
    "del val_in['date']\n",
    "\n",
    "\n",
    "test_in = data[data.date=='2015-11-22']\n",
    "y_test = test_in['inNums']\n",
    "del test_in['inNums'],test_in['outNums']\n",
    "del test_in['date']\n",
    "\n",
    "lgb_train = lgb.Dataset(train_in, y_train)\n",
    "lgb_evals = lgb.Dataset(val_in, y_val , reference=lgb_train)"
   ]
  },
  {
   "cell_type": "code",
   "execution_count": 92,
   "metadata": {},
   "outputs": [
    {
     "name": "stdout",
     "output_type": "stream",
     "text": [
      "Training until validation scores don't improve for 50 rounds.\n",
      "[1000]\ttrain's l1: 0.023985\tvalid's l1: 0.22914\n",
      "[2000]\ttrain's l1: 0.0149217\tvalid's l1: 0.211582\n",
      "[3000]\ttrain's l1: 0.0111732\tvalid's l1: 0.205233\n",
      "[4000]\ttrain's l1: 0.00918069\tvalid's l1: 0.202262\n",
      "[5000]\ttrain's l1: 0.00791346\tvalid's l1: 0.200506\n",
      "[6000]\ttrain's l1: 0.00715271\tvalid's l1: 0.199452\n",
      "[7000]\ttrain's l1: 0.00656286\tvalid's l1: 0.198618\n",
      "[8000]\ttrain's l1: 0.00613388\tvalid's l1: 0.197987\n",
      "[9000]\ttrain's l1: 0.00580398\tvalid's l1: 0.197504\n",
      "[10000]\ttrain's l1: 0.00553794\tvalid's l1: 0.197119\n",
      "[11000]\ttrain's l1: 0.00531959\tvalid's l1: 0.19679\n",
      "[12000]\ttrain's l1: 0.00513842\tvalid's l1: 0.196533\n",
      "[13000]\ttrain's l1: 0.0049806\tvalid's l1: 0.196308\n",
      "[14000]\ttrain's l1: 0.00484944\tvalid's l1: 0.196116\n",
      "[15000]\ttrain's l1: 0.00473338\tvalid's l1: 0.195948\n",
      "[16000]\ttrain's l1: 0.00462766\tvalid's l1: 0.195796\n",
      "[17000]\ttrain's l1: 0.00453357\tvalid's l1: 0.195656\n",
      "[18000]\ttrain's l1: 0.00444737\tvalid's l1: 0.195526\n",
      "[19000]\ttrain's l1: 0.00437074\tvalid's l1: 0.195415\n",
      "[20000]\ttrain's l1: 0.00429964\tvalid's l1: 0.1953\n",
      "Did not meet early stopping. Best iteration is:\n",
      "[20000]\ttrain's l1: 0.00429964\tvalid's l1: 0.1953\n"
     ]
    }
   ],
   "source": [
    "gbm = lgb.train(params,\n",
    "                lgb_train,\n",
    "                num_boost_round=20000,\n",
    "                valid_sets=[lgb_train,lgb_evals],\n",
    "                valid_names=['train','valid'],\n",
    "                early_stopping_rounds=50,\n",
    "                verbose_eval=1000,\n",
    "                )"
   ]
  },
  {
   "cell_type": "code",
   "execution_count": 93,
   "metadata": {},
   "outputs": [],
   "source": [
    "pre_in = gbm.predict(test_in,num_iteration=gbm.best_iteration)"
   ]
  },
  {
   "cell_type": "code",
   "execution_count": 94,
   "metadata": {},
   "outputs": [
    {
     "data": {
      "text/plain": [
       "0.010531489887573428"
      ]
     },
     "execution_count": 94,
     "metadata": {},
     "output_type": "execute_result"
    }
   ],
   "source": [
    "error_in = mean_absolute_error(pre_in,y_test)\n",
    "error_in"
   ]
  },
  {
   "cell_type": "code",
   "execution_count": 95,
   "metadata": {},
   "outputs": [],
   "source": [
    "sub['pre_in'] = pre_in"
   ]
  },
  {
   "cell_type": "code",
   "execution_count": 96,
   "metadata": {},
   "outputs": [],
   "source": [
    "train_out = data[data.date=='2015-11-15']\n",
    "y_train = train_out['outNums']\n",
    "del train_out['inNums'],train_out['outNums']\n",
    "del train_out['date']\n",
    "\n",
    "val_out = data[data.date=='2015-10-25']\n",
    "y_val = val_out['outNums']\n",
    "del val_out['inNums'],val_out['outNums']\n",
    "del val_out['date']\n",
    "\n",
    "test_out = data[data.date=='2015-11-22']\n",
    "y_test = test_out['outNums']\n",
    "del test_out['inNums'],test_out['outNums']\n",
    "del test_out['date']\n",
    "\n",
    "lgb_train = lgb.Dataset(train_out, y_train)\n",
    "lgb_evals = lgb.Dataset(val_out, y_val , reference=lgb_train)"
   ]
  },
  {
   "cell_type": "code",
   "execution_count": 97,
   "metadata": {},
   "outputs": [
    {
     "name": "stdout",
     "output_type": "stream",
     "text": [
      "Training until validation scores don't improve for 50 rounds.\n",
      "[1000]\ttrain's l1: 0.0257612\tvalid's l1: 0.229761\n",
      "[2000]\ttrain's l1: 0.016785\tvalid's l1: 0.212066\n",
      "[3000]\ttrain's l1: 0.0135326\tvalid's l1: 0.206615\n",
      "[4000]\ttrain's l1: 0.0118947\tvalid's l1: 0.204082\n",
      "[5000]\ttrain's l1: 0.0108511\tvalid's l1: 0.202524\n",
      "[6000]\ttrain's l1: 0.0101931\tvalid's l1: 0.201534\n",
      "[7000]\ttrain's l1: 0.00975573\tvalid's l1: 0.200844\n",
      "[8000]\ttrain's l1: 0.00943702\tvalid's l1: 0.200361\n",
      "[9000]\ttrain's l1: 0.00917792\tvalid's l1: 0.199978\n",
      "[10000]\ttrain's l1: 0.00896681\tvalid's l1: 0.199644\n",
      "[11000]\ttrain's l1: 0.00880073\tvalid's l1: 0.199369\n",
      "[12000]\ttrain's l1: 0.00866028\tvalid's l1: 0.199158\n",
      "[13000]\ttrain's l1: 0.00854114\tvalid's l1: 0.198953\n",
      "[14000]\ttrain's l1: 0.00845307\tvalid's l1: 0.1988\n",
      "[15000]\ttrain's l1: 0.00837367\tvalid's l1: 0.198666\n",
      "[16000]\ttrain's l1: 0.00830492\tvalid's l1: 0.198556\n",
      "Did not meet early stopping. Best iteration is:\n",
      "[16000]\ttrain's l1: 0.00830492\tvalid's l1: 0.198556\n"
     ]
    }
   ],
   "source": [
    "gbm1 = lgb.train(params,\n",
    "                lgb_train,\n",
    "                num_boost_round=16000,\n",
    "                valid_sets=[lgb_train,lgb_evals],\n",
    "                valid_names=['train','valid'],\n",
    "                early_stopping_rounds=50,\n",
    "                verbose_eval=1000,\n",
    "                )"
   ]
  },
  {
   "cell_type": "code",
   "execution_count": 98,
   "metadata": {},
   "outputs": [],
   "source": [
    "pre_out = gbm1.predict(test_out,num_iteration=gbm1.best_iteration)"
   ]
  },
  {
   "cell_type": "code",
   "execution_count": 99,
   "metadata": {},
   "outputs": [
    {
     "data": {
      "text/plain": [
       "0.014349878950115235"
      ]
     },
     "execution_count": 99,
     "metadata": {},
     "output_type": "execute_result"
    }
   ],
   "source": [
    "mean_absolute_error(pre_out,y_test)"
   ]
  },
  {
   "cell_type": "code",
   "execution_count": 100,
   "metadata": {},
   "outputs": [],
   "source": [
    "sub['pre_out'] = pre_out"
   ]
  },
  {
   "cell_type": "code",
   "execution_count": 101,
   "metadata": {},
   "outputs": [],
   "source": [
    "sub1 = sub.groupby(['date','TRADE_ADDRESS']).pre_in.agg({'inNums':'sum'}).reset_index()\n",
    "sub2 = sub.groupby(['date','TRADE_ADDRESS']).pre_out.agg({'outNums':'sum'}).reset_index()\n",
    "sub_result = sub1.merge(sub2,on = ['date','TRADE_ADDRESS'],how='left')\n",
    "sub_result['flow'] = sub_result.inNums + sub_result.outNums\n",
    "sub_result['round_pre'] = np.round(sub_result.flow)\n",
    "sub_result['round_in'] = np.round(sub_result.inNums)\n",
    "sub_result['round_out'] = np.round(sub_result.outNums)"
   ]
  },
  {
   "cell_type": "code",
   "execution_count": 102,
   "metadata": {},
   "outputs": [],
   "source": [
    "real1 = sub.groupby(['date','TRADE_ADDRESS']).inNums.agg({'inNums':'sum'}).reset_index()\n",
    "real2 = sub.groupby(['date','TRADE_ADDRESS']).outNums.agg({'outNums':'sum'}).reset_index()\n",
    "real = real1.merge(real2,on = ['date','TRADE_ADDRESS'],how='left')\n",
    "real['flow'] = real.inNums + real.outNums"
   ]
  },
  {
   "cell_type": "code",
   "execution_count": 103,
   "metadata": {},
   "outputs": [],
   "source": [
    "error=mean_absolute_error(sub_result.round_pre,real.flow)"
   ]
  },
  {
   "cell_type": "code",
   "execution_count": 104,
   "metadata": {},
   "outputs": [
    {
     "data": {
      "text/plain": [
       "22.8"
      ]
     },
     "execution_count": 104,
     "metadata": {},
     "output_type": "execute_result"
    }
   ],
   "source": [
    "error"
   ]
  },
  {
   "cell_type": "code",
   "execution_count": 105,
   "metadata": {},
   "outputs": [
    {
     "data": {
      "text/html": [
       "<div>\n",
       "<style scoped>\n",
       "    .dataframe tbody tr th:only-of-type {\n",
       "        vertical-align: middle;\n",
       "    }\n",
       "\n",
       "    .dataframe tbody tr th {\n",
       "        vertical-align: top;\n",
       "    }\n",
       "\n",
       "    .dataframe thead th {\n",
       "        text-align: right;\n",
       "    }\n",
       "</style>\n",
       "<table border=\"1\" class=\"dataframe\">\n",
       "  <thead>\n",
       "    <tr style=\"text-align: right;\">\n",
       "      <th></th>\n",
       "      <th>date</th>\n",
       "      <th>TRADE_ADDRESS</th>\n",
       "      <th>inNums</th>\n",
       "      <th>outNums</th>\n",
       "      <th>flow</th>\n",
       "      <th>round_pre</th>\n",
       "      <th>round_in</th>\n",
       "      <th>round_out</th>\n",
       "    </tr>\n",
       "  </thead>\n",
       "  <tbody>\n",
       "    <tr>\n",
       "      <th>0</th>\n",
       "      <td>2015-11-22</td>\n",
       "      <td>121</td>\n",
       "      <td>18323.905180</td>\n",
       "      <td>15234.586742</td>\n",
       "      <td>33558.491923</td>\n",
       "      <td>33558.0</td>\n",
       "      <td>18324.0</td>\n",
       "      <td>15235.0</td>\n",
       "    </tr>\n",
       "    <tr>\n",
       "      <th>1</th>\n",
       "      <td>2015-11-22</td>\n",
       "      <td>123</td>\n",
       "      <td>6176.939200</td>\n",
       "      <td>6286.809071</td>\n",
       "      <td>12463.748271</td>\n",
       "      <td>12464.0</td>\n",
       "      <td>6177.0</td>\n",
       "      <td>6287.0</td>\n",
       "    </tr>\n",
       "    <tr>\n",
       "      <th>2</th>\n",
       "      <td>2015-11-22</td>\n",
       "      <td>125</td>\n",
       "      <td>10298.072131</td>\n",
       "      <td>12343.584138</td>\n",
       "      <td>22641.656269</td>\n",
       "      <td>22642.0</td>\n",
       "      <td>10298.0</td>\n",
       "      <td>12344.0</td>\n",
       "    </tr>\n",
       "    <tr>\n",
       "      <th>3</th>\n",
       "      <td>2015-11-22</td>\n",
       "      <td>127</td>\n",
       "      <td>11730.694351</td>\n",
       "      <td>11111.857792</td>\n",
       "      <td>22842.552142</td>\n",
       "      <td>22843.0</td>\n",
       "      <td>11731.0</td>\n",
       "      <td>11112.0</td>\n",
       "    </tr>\n",
       "    <tr>\n",
       "      <th>4</th>\n",
       "      <td>2015-11-22</td>\n",
       "      <td>129</td>\n",
       "      <td>6879.453685</td>\n",
       "      <td>6965.237030</td>\n",
       "      <td>13844.690716</td>\n",
       "      <td>13845.0</td>\n",
       "      <td>6879.0</td>\n",
       "      <td>6965.0</td>\n",
       "    </tr>\n",
       "  </tbody>\n",
       "</table>\n",
       "</div>"
      ],
      "text/plain": [
       "        date  TRADE_ADDRESS        inNums       outNums          flow  \\\n",
       "0 2015-11-22            121  18323.905180  15234.586742  33558.491923   \n",
       "1 2015-11-22            123   6176.939200   6286.809071  12463.748271   \n",
       "2 2015-11-22            125  10298.072131  12343.584138  22641.656269   \n",
       "3 2015-11-22            127  11730.694351  11111.857792  22842.552142   \n",
       "4 2015-11-22            129   6879.453685   6965.237030  13844.690716   \n",
       "\n",
       "   round_pre  round_in  round_out  \n",
       "0    33558.0   18324.0    15235.0  \n",
       "1    12464.0    6177.0     6287.0  \n",
       "2    22642.0   10298.0    12344.0  \n",
       "3    22843.0   11731.0    11112.0  \n",
       "4    13845.0    6879.0     6965.0  "
      ]
     },
     "execution_count": 105,
     "metadata": {},
     "output_type": "execute_result"
    }
   ],
   "source": [
    "sub_result.head()"
   ]
  },
  {
   "cell_type": "code",
   "execution_count": 106,
   "metadata": {},
   "outputs": [
    {
     "data": {
      "text/html": [
       "<div>\n",
       "<style scoped>\n",
       "    .dataframe tbody tr th:only-of-type {\n",
       "        vertical-align: middle;\n",
       "    }\n",
       "\n",
       "    .dataframe tbody tr th {\n",
       "        vertical-align: top;\n",
       "    }\n",
       "\n",
       "    .dataframe thead th {\n",
       "        text-align: right;\n",
       "    }\n",
       "</style>\n",
       "<table border=\"1\" class=\"dataframe\">\n",
       "  <thead>\n",
       "    <tr style=\"text-align: right;\">\n",
       "      <th></th>\n",
       "      <th>date</th>\n",
       "      <th>TRADE_ADDRESS</th>\n",
       "      <th>inNums</th>\n",
       "      <th>outNums</th>\n",
       "      <th>flow</th>\n",
       "    </tr>\n",
       "  </thead>\n",
       "  <tbody>\n",
       "    <tr>\n",
       "      <th>0</th>\n",
       "      <td>2015-11-22</td>\n",
       "      <td>121</td>\n",
       "      <td>18359</td>\n",
       "      <td>15220</td>\n",
       "      <td>33579</td>\n",
       "    </tr>\n",
       "    <tr>\n",
       "      <th>1</th>\n",
       "      <td>2015-11-22</td>\n",
       "      <td>123</td>\n",
       "      <td>6204</td>\n",
       "      <td>6255</td>\n",
       "      <td>12459</td>\n",
       "    </tr>\n",
       "    <tr>\n",
       "      <th>2</th>\n",
       "      <td>2015-11-22</td>\n",
       "      <td>125</td>\n",
       "      <td>10725</td>\n",
       "      <td>11799</td>\n",
       "      <td>22524</td>\n",
       "    </tr>\n",
       "    <tr>\n",
       "      <th>3</th>\n",
       "      <td>2015-11-22</td>\n",
       "      <td>127</td>\n",
       "      <td>11771</td>\n",
       "      <td>11055</td>\n",
       "      <td>22826</td>\n",
       "    </tr>\n",
       "    <tr>\n",
       "      <th>4</th>\n",
       "      <td>2015-11-22</td>\n",
       "      <td>129</td>\n",
       "      <td>6990</td>\n",
       "      <td>6848</td>\n",
       "      <td>13838</td>\n",
       "    </tr>\n",
       "  </tbody>\n",
       "</table>\n",
       "</div>"
      ],
      "text/plain": [
       "        date  TRADE_ADDRESS  inNums  outNums   flow\n",
       "0 2015-11-22            121   18359    15220  33579\n",
       "1 2015-11-22            123    6204     6255  12459\n",
       "2 2015-11-22            125   10725    11799  22524\n",
       "3 2015-11-22            127   11771    11055  22826\n",
       "4 2015-11-22            129    6990     6848  13838"
      ]
     },
     "execution_count": 106,
     "metadata": {},
     "output_type": "execute_result"
    }
   ],
   "source": [
    "real.head()"
   ]
  },
  {
   "cell_type": "code",
   "execution_count": 42,
   "metadata": {},
   "outputs": [],
   "source": [
    "re_path = '../result1/'\n",
    "sub_result.to_csv(re_path+'7_flow_pre_'+str('%.2f'%error)+'.csv',encoding='utf-8',index=False)\n",
    "real.to_csv(re_path+'7_flow_real.csv',encoding='utf-8',index=False)"
   ]
  },
  {
   "cell_type": "code",
   "execution_count": 43,
   "metadata": {},
   "outputs": [
    {
     "name": "stdout",
     "output_type": "stream",
     "text": [
      "                   column  importance\n",
      "4             TERMINAL_ID      149556\n",
      "3                  SAM_ID      123408\n",
      "5              RECORD_ROW      103737\n",
      "17   inNums_ID_w_h_5_mean      101341\n",
      "29  outNums_ID_w_h_5_mean       43083\n",
      "18    inNums_ID_w_h_5_sum       42659\n",
      "12   inNums_ID_w_h_3_mean       26258\n",
      "14   inNums_ID_w_h_2_mean       21076\n",
      "15    inNums_ID_w_h_2_sum       19313\n",
      "30   outNums_ID_w_h_5_sum       18505\n",
      "13    inNums_ID_w_h_3_sum       18336\n",
      "8                  10_min       12674\n",
      "0           TRADE_ADDRESS       12611\n",
      "6                  30_min       12542\n",
      "9                   5_min       11930\n",
      "26   outNums_ID_w_h_2_sum       10520\n",
      "22  outNums_ID_w_h_3_mean       10455\n",
      "7                  20_min       10123\n",
      "23   outNums_ID_w_h_3_sum        9539\n",
      "11        inNums_ID_w_sum        8068\n",
      "10       inNums_ID_w_mean        7810\n",
      "1            CARD_TYPE_EX        7770\n",
      "25  outNums_ID_w_h_2_mean        7044\n",
      "2               CARD_TYPE        6096\n",
      "21         outNums_ID_sum        3231\n",
      "20        outNums_ID_mean        2863\n",
      "16    inNums_ID_w_h_5_max        2842\n",
      "27   outNums_ID_w_h_5_max        1480\n",
      "24   outNums_ID_w_h_2_max         697\n",
      "19         outNums_ID_max         347\n",
      "28   outNums_ID_w_h_5_min          86\n"
     ]
    }
   ],
   "source": [
    "features=train_in.columns\n",
    "feature_rank=gbm.feature_importance()\n",
    "features_df=pd.DataFrame({ 'column':features,'importance': feature_rank}).sort_values(by='importance', ascending=False)\n",
    "print(features_df)"
   ]
  },
  {
   "cell_type": "code",
   "execution_count": 44,
   "metadata": {},
   "outputs": [],
   "source": [
    "date_list = list(data.date.unique())"
   ]
  },
  {
   "cell_type": "code",
   "execution_count": 45,
   "metadata": {},
   "outputs": [
    {
     "data": {
      "image/png": "[encoded data removed]",
      "text/plain": [
       "<Figure size 2160x1080 with 1 Axes>"
      ]
     },
     "metadata": {},
     "output_type": "display_data"
    }
   ],
   "source": [
    "fig = plt.figure(figsize=(30,15))\n",
    "for i in date_list:\n",
    "    hh = data[data.date==i]\n",
    "    hhh = hh.groupby(['30_min']).inNums.agg({'inNums':'sum'}).reset_index()\n",
    "    plt.plot(hhh['30_min'],hhh['inNums'],label = i)\n",
    "    \n",
    "legend=plt.legend(title='time', fontsize=15)\n",
    "legend.get_title().set_fontsize(fontsize=30)\n",
    "\n",
    "plt.tick_params(labelsize=30)\n",
    "plt.show()"
   ]
  },
  {
   "cell_type": "code",
   "execution_count": null,
   "metadata": {},
   "outputs": [],
   "source": []
  },
  {
   "cell_type": "code",
   "execution_count": null,
   "metadata": {},
   "outputs": [],
   "source": []
  }
 ],
 "metadata": {
  "kernelspec": {
   "display_name": "Python 3",
   "language": "python",
   "name": "python3"
  },
  "language_info": {
   "codemirror_mode": {
    "name": "ipython",
    "version": 3
   },
   "file_extension": ".py",
   "mimetype": "text/x-python",
   "name": "python",
   "nbconvert_exporter": "python",
   "pygments_lexer": "ipython3",
   "version": "3.6.5"
  }
 },
 "nbformat": 4,
 "nbformat_minor": 2
}
