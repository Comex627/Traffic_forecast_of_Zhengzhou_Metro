{
 "cells": [
  {
   "cell_type": "code",
   "execution_count": 1,
   "metadata": {},
   "outputs": [],
   "source": [
    "import pandas as pd\n",
    "pd.options.display.max_columns = None\n",
    "import os\n",
    "import warnings\n",
    "warnings.filterwarnings('ignore')\n",
    "import datetime\n",
    "import numpy as np\n",
    "import lightgbm as lgb\n",
    "from sklearn.preprocessing import LabelEncoder\n",
    "from sklearn.metrics import mean_absolute_error"
   ]
  },
  {
   "cell_type": "code",
   "execution_count": 2,
   "metadata": {},
   "outputs": [],
   "source": [
    "#提取base_feature\n",
    "def get_base_feature(df):\n",
    "    df['time'] = df.START_DATE.apply(lambda x:x[:19])\n",
    "    df['time'] = pd.to_datetime(df['time'],format='%Y-%m-%d-%H.%M.%S')\n",
    "    timedelta = df['time'] - pd.datetime(df['time'].dt.year[0],df['time'].dt.month[0],df['time'].dt.day[0],0,0,0)\n",
    "    df['30_min'] = timedelta.dt.seconds/1800\n",
    "    df['30_min'] = df['30_min'].astype(int)\n",
    "    df['20_min'] = timedelta.dt.seconds/1200\n",
    "    df['20_min'] = df['20_min'].astype(int)\n",
    "    df['10_min'] = timedelta.dt.seconds/600\n",
    "    df['10_min'] = df['10_min'].astype(int)\n",
    "    df['5_min'] = timedelta.dt.seconds/300\n",
    "    df['5_min'] = df['5_min'].astype(int)\n",
    "#     df['3_min'] = timedelta.dt.seconds/300\n",
    "#     df['3_min'] = df['3_min'].astype(int)\n",
    "\n",
    "    df['hour'] = df.START_DATE.apply(lambda x:int(x[11:13]))\n",
    "    \n",
    "    \n",
    "    df.TRADE_TYPE[df.TRADE_TYPE==21] = 1\n",
    "    df.TRADE_TYPE[df.TRADE_TYPE==22] = 0\n",
    "    \n",
    "    result = df.groupby(['date','TRADE_ADDRESS','INDUSTRY_CODE','CARD_TYPE_EX','CARD_TYPE','SAM_ID','TERMINAL_ID','RECORD_ROW','30_min','20_min','10_min','5_min']).TRADE_TYPE.agg(['count','sum']).reset_index()\n",
    "    result['inNums'] = result['sum']\n",
    "    result['outNums'] = result['count'] - result['sum']\n",
    "    del result['count'],result['sum']\n",
    "    \n",
    "    result.date = pd.to_datetime(result.date)\n",
    "    result['week'] = result.date.dt.dayofweek+1\n",
    "    del df\n",
    "    return result"
   ]
  },
  {
   "cell_type": "code",
   "execution_count": 3,
   "metadata": {},
   "outputs": [],
   "source": [
    "#进一步提取特征\n",
    "def more_feature(result):\n",
    "    tmp = result.copy()\n",
    "\n",
    "    tmp = result.groupby(['TRADE_ADDRESS'], as_index=False)['inNums'].agg({\n",
    "                                                                        'inNums_ID_w_max'    : 'max',\n",
    "                                                                        'inNums_ID_w_min'    : 'min', \n",
    "                                                                        'inNums_ID_w_mean'   : 'mean'\n",
    "                                                                        'inNums_ID_w_sum'   : 'sum'\n",
    "                                                                        })\n",
    "    result = result.merge(tmp, on=['TRADE_ADDRESS'], how='left')\n",
    "\n",
    "    tmp = result.groupby(['TRADE_ADDRESS','week','30_min'], as_index=False)['inNums'].agg({\n",
    "                                                                        'inNums_ID_w_h_3_max'    : 'max',\n",
    "                                                                        'inNums_ID_w_h_3_min'    : 'min', \n",
    "                                                                        'inNums_ID_w_h_3_mean'   : 'mean',\n",
    "                                                                        'inNums_ID_w_h_3_sum'   : 'sum'\n",
    "                                                                        })\n",
    "    result = result.merge(tmp,on=['TRADE_ADDRESS','week','30_min'],how = 'left')\n",
    "    #20\n",
    "    tmp = result.groupby(['TRADE_ADDRESS','20_min'], as_index=False)['inNums'].agg({\n",
    "                                                                        'inNums_ID_w_h_2_max'    : 'max',\n",
    "                                                                        'inNums_ID_w_h_2_min'    : 'min', \n",
    "                                                                        'inNums_ID_w_h_2_mean'   : 'mean',\n",
    "                                                                        'inNums_ID_w_h_2_sum'   : 'sum',      \n",
    "                                                                \n",
    "                                                                        })\n",
    "    result = result.merge(tmp,on=['TRADE_ADDRESS','20_min'],how = 'left')\n",
    "    \n",
    "    tmp = result.groupby(['TRADE_ADDRESS','5_min'], as_index=False)['inNums'].agg({\n",
    "                                                                        'inNums_ID_w_h_5_max'    : 'max',\n",
    "                                                                        'inNums_ID_w_h_5_min'    : 'min', \n",
    "                                                                        'inNums_ID_w_h_5_mean'    : 'mean',\n",
    "                                                                        'inNums_ID_w_h_5_sum'   : 'sum'\n",
    "                                                                        })\n",
    "    result = result.merge(tmp,on=['TRADE_ADDRESS','5_min'],how = 'left')\n",
    "    \n",
    "    \n",
    "    \n",
    "    ###出站与进站类似\n",
    "\n",
    "    \n",
    "    \n",
    "    tmp = result.groupby(['TRADE_ADDRESS'], as_index=False)['outNums'].agg({\n",
    "                                                                        'outNums_ID_max'    : 'max',\n",
    "                                                                        'outNums_ID_min'    : 'min',\n",
    "                                                                        'outNums_ID_mean'   : 'mean',\n",
    "                                                                        'outNums_ID_sum'   : 'sum'\n",
    "                                                                        })\n",
    "    result = result.merge(tmp, on=['TRADE_ADDRESS'], how='left')\n",
    "    \n",
    "\n",
    "\n",
    "    ####按照week计算每个站口每小时的进站人数\n",
    "    tmp = result.groupby(['TRADE_ADDRESS','30_min'], as_index=False)['outNums'].agg({\n",
    "                                                                       \n",
    "                                                                        'outNums_ID_w_h_3_max'    : 'max', \n",
    "                                                                        'outNums_ID_w_h_3_min'    : 'min', \n",
    "                                                                        'outNums_ID_w_h_3_mean'    : 'mean', \n",
    "                                                                        'outNums_ID_w_h_3_sum'    : 'sum', \n",
    "                                                           \n",
    "                                                                        })\n",
    "    result = result.merge(tmp,on=['TRADE_ADDRESS','30_min'],how = 'left')\n",
    "    #20\n",
    "    tmp = result.groupby(['TRADE_ADDRESS','20_min'], as_index=False)['outNums'].agg({\n",
    "                                                              \n",
    "                                                                        'outNums_ID_w_h_2_max'    : 'max', \n",
    "                                                                        'outNums_ID_w_h_2_min'    : 'min', \n",
    "                                                                        'outNums_ID_w_h_2_mean'    : 'mean', \n",
    "                                                                        'outNums_ID_w_h_2_sum'    : 'sum', \n",
    "                                                    \n",
    "                                         \n",
    "                                                                        })\n",
    "    result = result.merge(tmp,on=['TRADE_ADDRESS','20_min'],how = 'left')\n",
    "    #20\n",
    "    tmp = result.groupby(['TRADE_ADDRESS','5_min'], as_index=False)['outNums'].agg({\n",
    "                                                  \n",
    "                                                                        'outNums_ID_w_h_5_max'   : 'max',\n",
    "                                                                        'outNums_ID_w_h_5_min'   : 'min',\n",
    "                                                                        'outNums_ID_w_h_5_mean'   : 'mean',\n",
    "                                                                        'outNums_ID_w_h_5_sum'   : 'sum',\n",
    "                                               \n",
    "                                                                        })\n",
    "    result = result.merge(tmp,on=['TRADE_ADDRESS','5_min'],how = 'left')\n",
    "    \n",
    "    return result"
   ]
  },
  {
   "cell_type": "code",
   "execution_count": 4,
   "metadata": {},
   "outputs": [],
   "source": [
    "path = '../dataofweek/'"
   ]
  },
  {
   "cell_type": "code",
   "execution_count": 5,
   "metadata": {},
   "outputs": [],
   "source": [
    "data12 = pd.read_csv(path+'12_week.csv')"
   ]
  },
  {
   "cell_type": "code",
   "execution_count": 6,
   "metadata": {},
   "outputs": [],
   "source": [
    "data13= pd.read_csv(path+'13_week.csv')"
   ]
  },
  {
   "cell_type": "code",
   "execution_count": 7,
   "metadata": {},
   "outputs": [],
   "source": [
    "data15 = pd.read_csv(path+'15_week.csv')"
   ]
  },
  {
   "cell_type": "code",
   "execution_count": 8,
   "metadata": {},
   "outputs": [],
   "source": [
    "data16 = pd.read_csv(path+'16_week.csv')"
   ]
  },
  {
   "cell_type": "code",
   "execution_count": 9,
   "metadata": {},
   "outputs": [],
   "source": [
    "df125 = data12[data12.week==5]\n",
    "df135 = data13[data13.week==5]\n",
    "df155 = data15[data15.week==5]\n",
    "df165 = data16[data16.week==5]"
   ]
  },
  {
   "cell_type": "code",
   "execution_count": 10,
   "metadata": {},
   "outputs": [],
   "source": [
    "del data15,data16,data12,data13"
   ]
  },
  {
   "cell_type": "code",
   "execution_count": 11,
   "metadata": {},
   "outputs": [],
   "source": [
    "data = pd.concat([df125,df135],axis=0,ignore_index=True)\n",
    "data = pd.concat([data,df155],axis=0,ignore_index=True)\n",
    "data = pd.concat([data,df165],axis=0,ignore_index=True)"
   ]
  },
  {
   "cell_type": "code",
   "execution_count": 12,
   "metadata": {},
   "outputs": [],
   "source": [
    "le = LabelEncoder()"
   ]
  },
  {
   "cell_type": "code",
   "execution_count": 13,
   "metadata": {},
   "outputs": [],
   "source": [
    "data.SAM_ID = le.fit_transform(data.SAM_ID.values)"
   ]
  },
  {
   "cell_type": "code",
   "execution_count": 14,
   "metadata": {},
   "outputs": [],
   "source": [
    "data.TERMINAL_ID = le.fit_transform(data.TERMINAL_ID.values)"
   ]
  },
  {
   "cell_type": "code",
   "execution_count": 15,
   "metadata": {},
   "outputs": [],
   "source": [
    "data = get_base_feature(data)"
   ]
  },
  {
   "cell_type": "code",
   "execution_count": 16,
   "metadata": {},
   "outputs": [],
   "source": [
    "data = more_feature(data)"
   ]
  },
  {
   "cell_type": "code",
   "execution_count": 17,
   "metadata": {},
   "outputs": [
    {
     "data": {
      "text/plain": [
       "(2346529, 47)"
      ]
     },
     "execution_count": 17,
     "metadata": {},
     "output_type": "execute_result"
    }
   ],
   "source": [
    "data.shape"
   ]
  },
  {
   "cell_type": "code",
   "execution_count": 18,
   "metadata": {},
   "outputs": [],
   "source": [
    "prevent = data.copy()"
   ]
  },
  {
   "cell_type": "code",
   "execution_count": 19,
   "metadata": {},
   "outputs": [
    {
     "name": "stdout",
     "output_type": "stream",
     "text": [
      "INDUSTRY_CODE 0.9391965750263475\n",
      "week 1.0\n",
      "inNums_ID_w_min 1.0\n",
      "inNums_ID_w_h_3_max 0.9800641713782356\n",
      "inNums_ID_w_h_2_max 0.9872368933007007\n",
      "inNums_ID_w_h_5_min 0.9993624625990133\n",
      "outNums_ID_min 1.0\n",
      "outNums_ID_w_h_3_min 0.999828683131553\n",
      "outNums_ID_w_h_2_min 0.9997038178518143\n"
     ]
    }
   ],
   "source": [
    "#删除类别列别超过90%的列\n",
    "cols = list(data.columns)\n",
    "for col in cols:\n",
    "    rate = data[col].value_counts(normalize = True,dropna = False).values[0]\n",
    "    if ((rate>0.9)&(col!='INDUSTRY_CODE ')):\n",
    "        cols.remove(col)\n",
    "        print(col,rate)\n",
    "data = data[cols]"
   ]
  },
  {
   "cell_type": "code",
   "execution_count": 20,
   "metadata": {},
   "outputs": [],
   "source": [
    "columns = [ 'date',\n",
    "    'TRADE_ADDRESS',\n",
    " 'CARD_TYPE_EX',\n",
    " 'CARD_TYPE',\n",
    " 'SAM_ID',\n",
    " 'TERMINAL_ID',\n",
    " 'RECORD_ROW',\n",
    " '30_min',\n",
    " '20_min',\n",
    " '10_min',\n",
    " '5_min',\n",
    " 'inNums',\n",
    " 'outNums',\n",
    " 'inNums_ID_w_mean',\n",
    " 'inNums_ID_w_sum',\n",
    "\n",
    " 'inNums_ID_w_h_3_mean',\n",
    " 'inNums_ID_w_h_3_sum',\n",
    "\n",
    " 'inNums_ID_w_h_2_mean',\n",
    " 'inNums_ID_w_h_2_sum',\n",
    " 'inNums_ID_w_h_5_max',\n",
    " 'inNums_ID_w_h_5_mean',\n",
    " 'inNums_ID_w_h_5_sum',\n",
    " 'outNums_ID_max',\n",
    " 'outNums_ID_mean',\n",
    " 'outNums_ID_sum',\n",
    " 'outNums_ID_w_h_3_mean',\n",
    " 'outNums_ID_w_h_3_sum',\n",
    " 'outNums_ID_w_h_2_max',\n",
    " 'outNums_ID_w_h_2_mean',\n",
    " 'outNums_ID_w_h_2_sum',\n",
    " 'outNums_ID_w_h_5_max',\n",
    " 'outNums_ID_w_h_5_min',\n",
    " 'outNums_ID_w_h_5_mean',\n",
    " 'outNums_ID_w_h_5_sum']"
   ]
  },
  {
   "cell_type": "code",
   "execution_count": 21,
   "metadata": {},
   "outputs": [],
   "source": [
    "data = data[columns]"
   ]
  },
  {
   "cell_type": "code",
   "execution_count": 22,
   "metadata": {},
   "outputs": [
    {
     "data": {
      "text/plain": [
       "array(['2015-10-23T00:00:00.000000000', '2015-10-30T00:00:00.000000000',\n",
       "       '2015-11-13T00:00:00.000000000', '2015-11-20T00:00:00.000000000'],\n",
       "      dtype='datetime64[ns]')"
      ]
     },
     "execution_count": 22,
     "metadata": {},
     "output_type": "execute_result"
    }
   ],
   "source": [
    "data.date.unique()"
   ]
  },
  {
   "cell_type": "code",
   "execution_count": 47,
   "metadata": {},
   "outputs": [],
   "source": [
    "train_in = data[data.date<'2015-11-13']\n",
    "y_train = train_in['inNums']\n",
    "del train_in['inNums'],train_in['outNums']\n",
    "del train_in['date']\n",
    "\n",
    "val_in = data[data.date=='2015-11-13']\n",
    "y_val = val_in['inNums']\n",
    "del val_in['inNums'],val_in['outNums']\n",
    "del val_in['date']\n",
    "\n",
    "\n",
    "test_in = data[data.date=='2015-11-20']\n",
    "y_test = test_in['inNums']\n",
    "del test_in['inNums'],test_in['outNums']\n",
    "del test_in['date']\n",
    "\n",
    "lgb_train = lgb.Dataset(train_in, y_train)\n",
    "lgb_evals = lgb.Dataset(val_in, y_val , reference=lgb_train)"
   ]
  },
  {
   "cell_type": "code",
   "execution_count": 48,
   "metadata": {},
   "outputs": [],
   "source": [
    "X_train_in = data[data.date<='2015-11-13']\n",
    "X_y_train = X_train_in['inNums']\n",
    "del X_train_in['inNums'],X_train_in['outNums']\n",
    "del X_train_in['date']"
   ]
  },
  {
   "cell_type": "code",
   "execution_count": 26,
   "metadata": {},
   "outputs": [],
   "source": [
    "sub = data[data.date=='2015-11-20']"
   ]
  },
  {
   "cell_type": "code",
   "execution_count": 27,
   "metadata": {},
   "outputs": [],
   "source": [
    "#lgb参数\n",
    "params = {\n",
    "    'boosting_type': 'gbdt',\n",
    "    'objective': 'regression',\n",
    "    'metric': 'mae',\n",
    "    'num_leaves': 63,\n",
    "    'learning_rate': 0.01,\n",
    "    'feature_fraction': 0.8,\n",
    "    'bagging_fraction': 0.9,\n",
    "    'bagging_seed':0,\n",
    "    'bagging_freq': 1,\n",
    "    'verbose': 1,\n",
    "    'reg_alpha':1,\n",
    "    'reg_lambda':2,\n",
    "    'min_child_weight':6\n",
    "}"
   ]
  },
  {
   "cell_type": "code",
   "execution_count": 56,
   "metadata": {},
   "outputs": [
    {
     "name": "stdout",
     "output_type": "stream",
     "text": [
      "Training until validation scores don't improve for 50 rounds.\n",
      "[1000]\ttrain's l1: 0.0206833\tvalid's l1: 0.0227233\n",
      "[2000]\ttrain's l1: 0.0118318\tvalid's l1: 0.0145607\n",
      "[3000]\ttrain's l1: 0.00864104\tvalid's l1: 0.0116269\n",
      "[4000]\ttrain's l1: 0.00694071\tvalid's l1: 0.0100167\n",
      "[5000]\ttrain's l1: 0.00593907\tvalid's l1: 0.00904751\n",
      "[6000]\ttrain's l1: 0.00526944\tvalid's l1: 0.00840359\n",
      "[7000]\ttrain's l1: 0.00479311\tvalid's l1: 0.00793839\n",
      "[8000]\ttrain's l1: 0.00443202\tvalid's l1: 0.00757951\n",
      "[9000]\ttrain's l1: 0.00414269\tvalid's l1: 0.00729674\n",
      "[10000]\ttrain's l1: 0.00391329\tvalid's l1: 0.0070737\n",
      "[11000]\ttrain's l1: 0.00371705\tvalid's l1: 0.00688281\n",
      "[12000]\ttrain's l1: 0.00354996\tvalid's l1: 0.00672064\n",
      "[13000]\ttrain's l1: 0.00340538\tvalid's l1: 0.00658675\n",
      "[14000]\ttrain's l1: 0.00328127\tvalid's l1: 0.00647063\n",
      "[15000]\ttrain's l1: 0.00317103\tvalid's l1: 0.00636961\n",
      "Did not meet early stopping. Best iteration is:\n",
      "[15000]\ttrain's l1: 0.00317103\tvalid's l1: 0.00636961\n"
     ]
    }
   ],
   "source": [
    "gbm = lgb.train(params,\n",
    "                lgb_train,\n",
    "                num_boost_round=15000,\n",
    "                valid_sets=[lgb_train,lgb_evals],\n",
    "                valid_names=['train','valid'],\n",
    "                early_stopping_rounds=50,\n",
    "                verbose_eval=1000,\n",
    "                )"
   ]
  },
  {
   "cell_type": "code",
   "execution_count": 57,
   "metadata": {},
   "outputs": [],
   "source": [
    "pre_in = gbm.predict(test_in,num_iteration=gbm.best_iteration)"
   ]
  },
  {
   "cell_type": "code",
   "execution_count": 58,
   "metadata": {},
   "outputs": [
    {
     "data": {
      "text/plain": [
       "0.00686554716219519"
      ]
     },
     "execution_count": 58,
     "metadata": {},
     "output_type": "execute_result"
    }
   ],
   "source": [
    "error_in = mean_absolute_error(pre_in,y_test)\n",
    "error_in"
   ]
  },
  {
   "cell_type": "code",
   "execution_count": 59,
   "metadata": {},
   "outputs": [],
   "source": [
    "sub['pre_in'] = pre_in"
   ]
  },
  {
   "cell_type": "code",
   "execution_count": 34,
   "metadata": {},
   "outputs": [],
   "source": [
    "train_out = data[data.date<'2015-11-13']\n",
    "y_train = train_out['outNums']\n",
    "del train_out['inNums'],train_out['outNums']\n",
    "del train_out['date']\n",
    "\n",
    "val_out = data[data.date=='2015-11-13']\n",
    "y_val = val_out['outNums']\n",
    "del val_out['inNums'],val_out['outNums']\n",
    "del val_out['date']\n",
    "\n",
    "test_out = data[data.date=='2015-11-20']\n",
    "y_test = test_out['outNums']\n",
    "del test_out['inNums'],test_out['outNums']\n",
    "del test_out['date']\n",
    "\n",
    "lgb_train = lgb.Dataset(train_out, y_train)\n",
    "lgb_evals = lgb.Dataset(val_out, y_val , reference=lgb_train)"
   ]
  },
  {
   "cell_type": "code",
   "execution_count": 35,
   "metadata": {},
   "outputs": [],
   "source": [
    "X_train_out = data[data.date<='2015-11-13']\n",
    "X_y_train = X_train_out['outNums']\n",
    "del X_train_out['inNums'],X_train_out['outNums']\n",
    "del X_train_out['date']"
   ]
  },
  {
   "cell_type": "code",
   "execution_count": 36,
   "metadata": {},
   "outputs": [
    {
     "name": "stdout",
     "output_type": "stream",
     "text": [
      "Training until validation scores don't improve for 50 rounds.\n",
      "[1000]\ttrain's l1: 0.0225203\tvalid's l1: 0.0245508\n",
      "[2000]\ttrain's l1: 0.0141764\tvalid's l1: 0.0167155\n",
      "[3000]\ttrain's l1: 0.0111819\tvalid's l1: 0.0139317\n",
      "[4000]\ttrain's l1: 0.00979086\tvalid's l1: 0.0126215\n",
      "[5000]\ttrain's l1: 0.00906535\tvalid's l1: 0.0119433\n",
      "[6000]\ttrain's l1: 0.00857838\tvalid's l1: 0.0114922\n",
      "[7000]\ttrain's l1: 0.00825245\tvalid's l1: 0.0111886\n",
      "[8000]\ttrain's l1: 0.00801695\tvalid's l1: 0.0109669\n",
      "[9000]\ttrain's l1: 0.00784009\tvalid's l1: 0.0108072\n",
      "[10000]\ttrain's l1: 0.00768193\tvalid's l1: 0.0106686\n",
      "[11000]\ttrain's l1: 0.00756289\tvalid's l1: 0.0105689\n",
      "[12000]\ttrain's l1: 0.00745786\tvalid's l1: 0.0104862\n",
      "[13000]\ttrain's l1: 0.00737538\tvalid's l1: 0.0104237\n",
      "[14000]\ttrain's l1: 0.00730364\tvalid's l1: 0.0103719\n",
      "[15000]\ttrain's l1: 0.0072411\tvalid's l1: 0.0103289\n",
      "[16000]\ttrain's l1: 0.00718239\tvalid's l1: 0.0102882\n",
      "[17000]\ttrain's l1: 0.0071339\tvalid's l1: 0.0102556\n",
      "[18000]\ttrain's l1: 0.00708457\tvalid's l1: 0.0102209\n",
      "Early stopping, best iteration is:\n",
      "[18528]\ttrain's l1: 0.00706223\tvalid's l1: 0.010207\n"
     ]
    }
   ],
   "source": [
    "gbm1 = lgb.train(params,\n",
    "                lgb_train,\n",
    "                num_boost_round=20000,\n",
    "                valid_sets=[lgb_train,lgb_evals],\n",
    "                valid_names=['train','valid'],\n",
    "                early_stopping_rounds=50,\n",
    "                verbose_eval=1000,\n",
    "                )"
   ]
  },
  {
   "cell_type": "code",
   "execution_count": 37,
   "metadata": {},
   "outputs": [],
   "source": [
    "pre_out = gbm1.predict(test_out,num_iteration=gbm1.best_iteration)"
   ]
  },
  {
   "cell_type": "code",
   "execution_count": 38,
   "metadata": {},
   "outputs": [
    {
     "data": {
      "text/plain": [
       "0.010470816274103983"
      ]
     },
     "execution_count": 38,
     "metadata": {},
     "output_type": "execute_result"
    }
   ],
   "source": [
    "error_out = mean_absolute_error(pre_out,y_test)\n",
    "error_out"
   ]
  },
  {
   "cell_type": "code",
   "execution_count": 39,
   "metadata": {},
   "outputs": [],
   "source": [
    "sub['pre_out'] = pre_out"
   ]
  },
  {
   "cell_type": "code",
   "execution_count": 40,
   "metadata": {},
   "outputs": [
    {
     "data": {
      "text/html": [
       "<div>\n",
       "<style scoped>\n",
       "    .dataframe tbody tr th:only-of-type {\n",
       "        vertical-align: middle;\n",
       "    }\n",
       "\n",
       "    .dataframe tbody tr th {\n",
       "        vertical-align: top;\n",
       "    }\n",
       "\n",
       "    .dataframe thead th {\n",
       "        text-align: right;\n",
       "    }\n",
       "</style>\n",
       "<table border=\"1\" class=\"dataframe\">\n",
       "  <thead>\n",
       "    <tr style=\"text-align: right;\">\n",
       "      <th></th>\n",
       "      <th>date</th>\n",
       "      <th>TRADE_ADDRESS</th>\n",
       "      <th>CARD_TYPE_EX</th>\n",
       "      <th>CARD_TYPE</th>\n",
       "      <th>SAM_ID</th>\n",
       "      <th>TERMINAL_ID</th>\n",
       "      <th>RECORD_ROW</th>\n",
       "      <th>30_min</th>\n",
       "      <th>20_min</th>\n",
       "      <th>10_min</th>\n",
       "      <th>5_min</th>\n",
       "      <th>inNums</th>\n",
       "      <th>outNums</th>\n",
       "      <th>inNums_ID_w_mean</th>\n",
       "      <th>inNums_ID_w_sum</th>\n",
       "      <th>inNums_ID_w_h_3_mean</th>\n",
       "      <th>inNums_ID_w_h_3_sum</th>\n",
       "      <th>inNums_ID_w_h_2_mean</th>\n",
       "      <th>inNums_ID_w_h_2_sum</th>\n",
       "      <th>inNums_ID_w_h_5_max</th>\n",
       "      <th>inNums_ID_w_h_5_mean</th>\n",
       "      <th>inNums_ID_w_h_5_sum</th>\n",
       "      <th>outNums_ID_max</th>\n",
       "      <th>outNums_ID_mean</th>\n",
       "      <th>outNums_ID_sum</th>\n",
       "      <th>outNums_ID_w_h_3_mean</th>\n",
       "      <th>outNums_ID_w_h_3_sum</th>\n",
       "      <th>outNums_ID_w_h_2_max</th>\n",
       "      <th>outNums_ID_w_h_2_mean</th>\n",
       "      <th>outNums_ID_w_h_2_sum</th>\n",
       "      <th>outNums_ID_w_h_5_max</th>\n",
       "      <th>outNums_ID_w_h_5_min</th>\n",
       "      <th>outNums_ID_w_h_5_mean</th>\n",
       "      <th>outNums_ID_w_h_5_sum</th>\n",
       "      <th>pre_in</th>\n",
       "      <th>pre_out</th>\n",
       "    </tr>\n",
       "  </thead>\n",
       "  <tbody>\n",
       "    <tr>\n",
       "      <th>1760511</th>\n",
       "      <td>2015-11-20</td>\n",
       "      <td>121</td>\n",
       "      <td>0</td>\n",
       "      <td>98</td>\n",
       "      <td>31</td>\n",
       "      <td>6</td>\n",
       "      <td>8</td>\n",
       "      <td>23</td>\n",
       "      <td>34</td>\n",
       "      <td>69</td>\n",
       "      <td>138</td>\n",
       "      <td>0</td>\n",
       "      <td>1</td>\n",
       "      <td>0.570321</td>\n",
       "      <td>69878</td>\n",
       "      <td>0.591296</td>\n",
       "      <td>1943</td>\n",
       "      <td>0.639391</td>\n",
       "      <td>1555</td>\n",
       "      <td>0</td>\n",
       "      <td>0.00000</td>\n",
       "      <td>0</td>\n",
       "      <td>3</td>\n",
       "      <td>0.43203</td>\n",
       "      <td>52934</td>\n",
       "      <td>0.412051</td>\n",
       "      <td>1354</td>\n",
       "      <td>2</td>\n",
       "      <td>0.363487</td>\n",
       "      <td>884</td>\n",
       "      <td>2</td>\n",
       "      <td>1</td>\n",
       "      <td>1.009091</td>\n",
       "      <td>222</td>\n",
       "      <td>-0.000104</td>\n",
       "      <td>1.077455</td>\n",
       "    </tr>\n",
       "    <tr>\n",
       "      <th>1760512</th>\n",
       "      <td>2015-11-20</td>\n",
       "      <td>121</td>\n",
       "      <td>0</td>\n",
       "      <td>98</td>\n",
       "      <td>31</td>\n",
       "      <td>6</td>\n",
       "      <td>9</td>\n",
       "      <td>23</td>\n",
       "      <td>34</td>\n",
       "      <td>69</td>\n",
       "      <td>138</td>\n",
       "      <td>0</td>\n",
       "      <td>1</td>\n",
       "      <td>0.570321</td>\n",
       "      <td>69878</td>\n",
       "      <td>0.591296</td>\n",
       "      <td>1943</td>\n",
       "      <td>0.639391</td>\n",
       "      <td>1555</td>\n",
       "      <td>0</td>\n",
       "      <td>0.00000</td>\n",
       "      <td>0</td>\n",
       "      <td>3</td>\n",
       "      <td>0.43203</td>\n",
       "      <td>52934</td>\n",
       "      <td>0.412051</td>\n",
       "      <td>1354</td>\n",
       "      <td>2</td>\n",
       "      <td>0.363487</td>\n",
       "      <td>884</td>\n",
       "      <td>2</td>\n",
       "      <td>1</td>\n",
       "      <td>1.009091</td>\n",
       "      <td>222</td>\n",
       "      <td>-0.000104</td>\n",
       "      <td>1.077455</td>\n",
       "    </tr>\n",
       "    <tr>\n",
       "      <th>1760513</th>\n",
       "      <td>2015-11-20</td>\n",
       "      <td>121</td>\n",
       "      <td>0</td>\n",
       "      <td>98</td>\n",
       "      <td>31</td>\n",
       "      <td>6</td>\n",
       "      <td>10</td>\n",
       "      <td>21</td>\n",
       "      <td>32</td>\n",
       "      <td>64</td>\n",
       "      <td>129</td>\n",
       "      <td>0</td>\n",
       "      <td>1</td>\n",
       "      <td>0.570321</td>\n",
       "      <td>69878</td>\n",
       "      <td>0.659498</td>\n",
       "      <td>2576</td>\n",
       "      <td>0.679496</td>\n",
       "      <td>1889</td>\n",
       "      <td>0</td>\n",
       "      <td>0.00000</td>\n",
       "      <td>0</td>\n",
       "      <td>3</td>\n",
       "      <td>0.43203</td>\n",
       "      <td>52934</td>\n",
       "      <td>0.342806</td>\n",
       "      <td>1339</td>\n",
       "      <td>2</td>\n",
       "      <td>0.323022</td>\n",
       "      <td>898</td>\n",
       "      <td>2</td>\n",
       "      <td>1</td>\n",
       "      <td>1.008403</td>\n",
       "      <td>240</td>\n",
       "      <td>-0.000358</td>\n",
       "      <td>1.072651</td>\n",
       "    </tr>\n",
       "    <tr>\n",
       "      <th>1760514</th>\n",
       "      <td>2015-11-20</td>\n",
       "      <td>121</td>\n",
       "      <td>0</td>\n",
       "      <td>98</td>\n",
       "      <td>31</td>\n",
       "      <td>6</td>\n",
       "      <td>10</td>\n",
       "      <td>27</td>\n",
       "      <td>41</td>\n",
       "      <td>82</td>\n",
       "      <td>164</td>\n",
       "      <td>0</td>\n",
       "      <td>1</td>\n",
       "      <td>0.570321</td>\n",
       "      <td>69878</td>\n",
       "      <td>0.625310</td>\n",
       "      <td>2777</td>\n",
       "      <td>0.657782</td>\n",
       "      <td>2147</td>\n",
       "      <td>1</td>\n",
       "      <td>0.71093</td>\n",
       "      <td>696</td>\n",
       "      <td>3</td>\n",
       "      <td>0.43203</td>\n",
       "      <td>52934</td>\n",
       "      <td>0.375816</td>\n",
       "      <td>1669</td>\n",
       "      <td>2</td>\n",
       "      <td>0.343750</td>\n",
       "      <td>1122</td>\n",
       "      <td>2</td>\n",
       "      <td>0</td>\n",
       "      <td>0.290092</td>\n",
       "      <td>284</td>\n",
       "      <td>-0.004265</td>\n",
       "      <td>1.012367</td>\n",
       "    </tr>\n",
       "    <tr>\n",
       "      <th>1760515</th>\n",
       "      <td>2015-11-20</td>\n",
       "      <td>121</td>\n",
       "      <td>0</td>\n",
       "      <td>98</td>\n",
       "      <td>31</td>\n",
       "      <td>6</td>\n",
       "      <td>10</td>\n",
       "      <td>36</td>\n",
       "      <td>54</td>\n",
       "      <td>108</td>\n",
       "      <td>217</td>\n",
       "      <td>0</td>\n",
       "      <td>1</td>\n",
       "      <td>0.570321</td>\n",
       "      <td>69878</td>\n",
       "      <td>0.494088</td>\n",
       "      <td>3343</td>\n",
       "      <td>0.418438</td>\n",
       "      <td>1693</td>\n",
       "      <td>0</td>\n",
       "      <td>0.00000</td>\n",
       "      <td>0</td>\n",
       "      <td>3</td>\n",
       "      <td>0.43203</td>\n",
       "      <td>52934</td>\n",
       "      <td>0.508277</td>\n",
       "      <td>3439</td>\n",
       "      <td>2</td>\n",
       "      <td>0.584528</td>\n",
       "      <td>2365</td>\n",
       "      <td>2</td>\n",
       "      <td>1</td>\n",
       "      <td>1.001718</td>\n",
       "      <td>583</td>\n",
       "      <td>-0.002917</td>\n",
       "      <td>0.999057</td>\n",
       "    </tr>\n",
       "  </tbody>\n",
       "</table>\n",
       "</div>"
      ],
      "text/plain": [
       "              date  TRADE_ADDRESS  CARD_TYPE_EX  CARD_TYPE  SAM_ID  \\\n",
       "1760511 2015-11-20            121             0         98      31   \n",
       "1760512 2015-11-20            121             0         98      31   \n",
       "1760513 2015-11-20            121             0         98      31   \n",
       "1760514 2015-11-20            121             0         98      31   \n",
       "1760515 2015-11-20            121             0         98      31   \n",
       "\n",
       "         TERMINAL_ID  RECORD_ROW  30_min  20_min  10_min  5_min  inNums  \\\n",
       "1760511            6           8      23      34      69    138       0   \n",
       "1760512            6           9      23      34      69    138       0   \n",
       "1760513            6          10      21      32      64    129       0   \n",
       "1760514            6          10      27      41      82    164       0   \n",
       "1760515            6          10      36      54     108    217       0   \n",
       "\n",
       "         outNums  inNums_ID_w_mean  inNums_ID_w_sum  inNums_ID_w_h_3_mean  \\\n",
       "1760511        1          0.570321            69878              0.591296   \n",
       "1760512        1          0.570321            69878              0.591296   \n",
       "1760513        1          0.570321            69878              0.659498   \n",
       "1760514        1          0.570321            69878              0.625310   \n",
       "1760515        1          0.570321            69878              0.494088   \n",
       "\n",
       "         inNums_ID_w_h_3_sum  inNums_ID_w_h_2_mean  inNums_ID_w_h_2_sum  \\\n",
       "1760511                 1943              0.639391                 1555   \n",
       "1760512                 1943              0.639391                 1555   \n",
       "1760513                 2576              0.679496                 1889   \n",
       "1760514                 2777              0.657782                 2147   \n",
       "1760515                 3343              0.418438                 1693   \n",
       "\n",
       "         inNums_ID_w_h_5_max  inNums_ID_w_h_5_mean  inNums_ID_w_h_5_sum  \\\n",
       "1760511                    0               0.00000                    0   \n",
       "1760512                    0               0.00000                    0   \n",
       "1760513                    0               0.00000                    0   \n",
       "1760514                    1               0.71093                  696   \n",
       "1760515                    0               0.00000                    0   \n",
       "\n",
       "         outNums_ID_max  outNums_ID_mean  outNums_ID_sum  \\\n",
       "1760511               3          0.43203           52934   \n",
       "1760512               3          0.43203           52934   \n",
       "1760513               3          0.43203           52934   \n",
       "1760514               3          0.43203           52934   \n",
       "1760515               3          0.43203           52934   \n",
       "\n",
       "         outNums_ID_w_h_3_mean  outNums_ID_w_h_3_sum  outNums_ID_w_h_2_max  \\\n",
       "1760511               0.412051                  1354                     2   \n",
       "1760512               0.412051                  1354                     2   \n",
       "1760513               0.342806                  1339                     2   \n",
       "1760514               0.375816                  1669                     2   \n",
       "1760515               0.508277                  3439                     2   \n",
       "\n",
       "         outNums_ID_w_h_2_mean  outNums_ID_w_h_2_sum  outNums_ID_w_h_5_max  \\\n",
       "1760511               0.363487                   884                     2   \n",
       "1760512               0.363487                   884                     2   \n",
       "1760513               0.323022                   898                     2   \n",
       "1760514               0.343750                  1122                     2   \n",
       "1760515               0.584528                  2365                     2   \n",
       "\n",
       "         outNums_ID_w_h_5_min  outNums_ID_w_h_5_mean  outNums_ID_w_h_5_sum  \\\n",
       "1760511                     1               1.009091                   222   \n",
       "1760512                     1               1.009091                   222   \n",
       "1760513                     1               1.008403                   240   \n",
       "1760514                     0               0.290092                   284   \n",
       "1760515                     1               1.001718                   583   \n",
       "\n",
       "           pre_in   pre_out  \n",
       "1760511 -0.000104  1.077455  \n",
       "1760512 -0.000104  1.077455  \n",
       "1760513 -0.000358  1.072651  \n",
       "1760514 -0.004265  1.012367  \n",
       "1760515 -0.002917  0.999057  "
      ]
     },
     "execution_count": 40,
     "metadata": {},
     "output_type": "execute_result"
    }
   ],
   "source": [
    "sub.head()"
   ]
  },
  {
   "cell_type": "code",
   "execution_count": 60,
   "metadata": {},
   "outputs": [],
   "source": [
    "sub1 = sub.groupby(['date','TRADE_ADDRESS']).pre_in.agg({'inNums':'sum'}).reset_index()\n",
    "sub2 = sub.groupby(['date','TRADE_ADDRESS']).pre_out.agg({'outNums':'sum'}).reset_index()\n",
    "sub_result = sub1.merge(sub2,on = ['date','TRADE_ADDRESS'],how='left')\n",
    "sub_result['flow'] = sub_result.inNums + sub_result.outNums\n",
    "sub_result['round_pre'] = np.round(sub_result.flow)\n",
    "sub_result['round_in'] = np.round(sub_result.inNums)\n",
    "sub_result['round_out'] = np.round(sub_result.outNums)"
   ]
  },
  {
   "cell_type": "code",
   "execution_count": 61,
   "metadata": {},
   "outputs": [],
   "source": [
    "real1 = sub.groupby(['date','TRADE_ADDRESS']).inNums.agg({'inNums':'sum'}).reset_index()\n",
    "real2 = sub.groupby(['date','TRADE_ADDRESS']).outNums.agg({'outNums':'sum'}).reset_index()\n",
    "real = real1.merge(real2,on = ['date','TRADE_ADDRESS'],how='left')\n",
    "real['flow'] = real.inNums + real.outNums"
   ]
  },
  {
   "cell_type": "code",
   "execution_count": 62,
   "metadata": {},
   "outputs": [
    {
     "data": {
      "text/plain": [
       "13.55"
      ]
     },
     "execution_count": 62,
     "metadata": {},
     "output_type": "execute_result"
    }
   ],
   "source": [
    "mean_absolute_error(sub_result.round_pre,real.flow)"
   ]
  },
  {
   "cell_type": "code",
   "execution_count": 63,
   "metadata": {},
   "outputs": [
    {
     "data": {
      "text/html": [
       "<div>\n",
       "<style scoped>\n",
       "    .dataframe tbody tr th:only-of-type {\n",
       "        vertical-align: middle;\n",
       "    }\n",
       "\n",
       "    .dataframe tbody tr th {\n",
       "        vertical-align: top;\n",
       "    }\n",
       "\n",
       "    .dataframe thead th {\n",
       "        text-align: right;\n",
       "    }\n",
       "</style>\n",
       "<table border=\"1\" class=\"dataframe\">\n",
       "  <thead>\n",
       "    <tr style=\"text-align: right;\">\n",
       "      <th></th>\n",
       "      <th>date</th>\n",
       "      <th>TRADE_ADDRESS</th>\n",
       "      <th>inNums</th>\n",
       "      <th>outNums</th>\n",
       "      <th>flow</th>\n",
       "      <th>round_pre</th>\n",
       "      <th>round_in</th>\n",
       "      <th>round_out</th>\n",
       "    </tr>\n",
       "  </thead>\n",
       "  <tbody>\n",
       "    <tr>\n",
       "      <th>0</th>\n",
       "      <td>2015-11-20</td>\n",
       "      <td>121</td>\n",
       "      <td>17463.121038</td>\n",
       "      <td>12944.356483</td>\n",
       "      <td>30407.477520</td>\n",
       "      <td>30407.0</td>\n",
       "      <td>17463.0</td>\n",
       "      <td>12944.0</td>\n",
       "    </tr>\n",
       "    <tr>\n",
       "      <th>1</th>\n",
       "      <td>2015-11-20</td>\n",
       "      <td>123</td>\n",
       "      <td>6692.081976</td>\n",
       "      <td>6287.218248</td>\n",
       "      <td>12979.300224</td>\n",
       "      <td>12979.0</td>\n",
       "      <td>6692.0</td>\n",
       "      <td>6287.0</td>\n",
       "    </tr>\n",
       "    <tr>\n",
       "      <th>2</th>\n",
       "      <td>2015-11-20</td>\n",
       "      <td>125</td>\n",
       "      <td>11592.093096</td>\n",
       "      <td>14599.330435</td>\n",
       "      <td>26191.423531</td>\n",
       "      <td>26191.0</td>\n",
       "      <td>11592.0</td>\n",
       "      <td>14599.0</td>\n",
       "    </tr>\n",
       "    <tr>\n",
       "      <th>3</th>\n",
       "      <td>2015-11-20</td>\n",
       "      <td>127</td>\n",
       "      <td>12547.328686</td>\n",
       "      <td>12384.223202</td>\n",
       "      <td>24931.551887</td>\n",
       "      <td>24932.0</td>\n",
       "      <td>12547.0</td>\n",
       "      <td>12384.0</td>\n",
       "    </tr>\n",
       "    <tr>\n",
       "      <th>4</th>\n",
       "      <td>2015-11-20</td>\n",
       "      <td>129</td>\n",
       "      <td>8238.086484</td>\n",
       "      <td>8360.547688</td>\n",
       "      <td>16598.634171</td>\n",
       "      <td>16599.0</td>\n",
       "      <td>8238.0</td>\n",
       "      <td>8361.0</td>\n",
       "    </tr>\n",
       "  </tbody>\n",
       "</table>\n",
       "</div>"
      ],
      "text/plain": [
       "        date  TRADE_ADDRESS        inNums       outNums          flow  \\\n",
       "0 2015-11-20            121  17463.121038  12944.356483  30407.477520   \n",
       "1 2015-11-20            123   6692.081976   6287.218248  12979.300224   \n",
       "2 2015-11-20            125  11592.093096  14599.330435  26191.423531   \n",
       "3 2015-11-20            127  12547.328686  12384.223202  24931.551887   \n",
       "4 2015-11-20            129   8238.086484   8360.547688  16598.634171   \n",
       "\n",
       "   round_pre  round_in  round_out  \n",
       "0    30407.0   17463.0    12944.0  \n",
       "1    12979.0    6692.0     6287.0  \n",
       "2    26191.0   11592.0    14599.0  \n",
       "3    24932.0   12547.0    12384.0  \n",
       "4    16599.0    8238.0     8361.0  "
      ]
     },
     "execution_count": 63,
     "metadata": {},
     "output_type": "execute_result"
    }
   ],
   "source": [
    "sub_result.head()"
   ]
  },
  {
   "cell_type": "code",
   "execution_count": 64,
   "metadata": {},
   "outputs": [
    {
     "data": {
      "text/html": [
       "<div>\n",
       "<style scoped>\n",
       "    .dataframe tbody tr th:only-of-type {\n",
       "        vertical-align: middle;\n",
       "    }\n",
       "\n",
       "    .dataframe tbody tr th {\n",
       "        vertical-align: top;\n",
       "    }\n",
       "\n",
       "    .dataframe thead th {\n",
       "        text-align: right;\n",
       "    }\n",
       "</style>\n",
       "<table border=\"1\" class=\"dataframe\">\n",
       "  <thead>\n",
       "    <tr style=\"text-align: right;\">\n",
       "      <th></th>\n",
       "      <th>date</th>\n",
       "      <th>TRADE_ADDRESS</th>\n",
       "      <th>inNums</th>\n",
       "      <th>outNums</th>\n",
       "      <th>flow</th>\n",
       "    </tr>\n",
       "  </thead>\n",
       "  <tbody>\n",
       "    <tr>\n",
       "      <th>0</th>\n",
       "      <td>2015-11-20</td>\n",
       "      <td>121</td>\n",
       "      <td>17504</td>\n",
       "      <td>12910</td>\n",
       "      <td>30414</td>\n",
       "    </tr>\n",
       "    <tr>\n",
       "      <th>1</th>\n",
       "      <td>2015-11-20</td>\n",
       "      <td>123</td>\n",
       "      <td>6878</td>\n",
       "      <td>6127</td>\n",
       "      <td>13005</td>\n",
       "    </tr>\n",
       "    <tr>\n",
       "      <th>2</th>\n",
       "      <td>2015-11-20</td>\n",
       "      <td>125</td>\n",
       "      <td>11671</td>\n",
       "      <td>14493</td>\n",
       "      <td>26164</td>\n",
       "    </tr>\n",
       "    <tr>\n",
       "      <th>3</th>\n",
       "      <td>2015-11-20</td>\n",
       "      <td>127</td>\n",
       "      <td>12645</td>\n",
       "      <td>12288</td>\n",
       "      <td>24933</td>\n",
       "    </tr>\n",
       "    <tr>\n",
       "      <th>4</th>\n",
       "      <td>2015-11-20</td>\n",
       "      <td>129</td>\n",
       "      <td>8326</td>\n",
       "      <td>8249</td>\n",
       "      <td>16575</td>\n",
       "    </tr>\n",
       "  </tbody>\n",
       "</table>\n",
       "</div>"
      ],
      "text/plain": [
       "        date  TRADE_ADDRESS  inNums  outNums   flow\n",
       "0 2015-11-20            121   17504    12910  30414\n",
       "1 2015-11-20            123    6878     6127  13005\n",
       "2 2015-11-20            125   11671    14493  26164\n",
       "3 2015-11-20            127   12645    12288  24933\n",
       "4 2015-11-20            129    8326     8249  16575"
      ]
     },
     "execution_count": 64,
     "metadata": {},
     "output_type": "execute_result"
    }
   ],
   "source": [
    "real.head()"
   ]
  },
  {
   "cell_type": "code",
   "execution_count": 67,
   "metadata": {},
   "outputs": [],
   "source": [
    "re_path = '../result1/'\n",
    "sub_result.to_csv(re_path+'5_flow_pre.csv',encoding='utf-8',index=False)\n",
    "real.to_csv(re_path+'5_flow_real.csv',encoding='utf-8',index=False)"
   ]
  },
  {
   "cell_type": "code",
   "execution_count": 65,
   "metadata": {},
   "outputs": [
    {
     "name": "stdout",
     "output_type": "stream",
     "text": [
      "                   column  importance\n",
      "4             TERMINAL_ID      174067\n",
      "3                  SAM_ID      148133\n",
      "17   inNums_ID_w_h_5_mean       99108\n",
      "5              RECORD_ROW       82721\n",
      "12   inNums_ID_w_h_3_mean       59930\n",
      "18    inNums_ID_w_h_5_sum       47931\n",
      "29  outNums_ID_w_h_5_mean       35251\n",
      "14   inNums_ID_w_h_2_mean       24422\n",
      "30   outNums_ID_w_h_5_sum       23078\n",
      "22  outNums_ID_w_h_3_mean       21006\n",
      "13    inNums_ID_w_h_3_sum       19011\n",
      "9                   5_min       18576\n",
      "6                  30_min       18425\n",
      "0           TRADE_ADDRESS       17573\n",
      "15    inNums_ID_w_h_2_sum       15963\n",
      "8                  10_min       15138\n",
      "23   outNums_ID_w_h_3_sum       14320\n",
      "26   outNums_ID_w_h_2_sum       12835\n",
      "2               CARD_TYPE       12647\n",
      "7                  20_min       12305\n",
      "16    inNums_ID_w_h_5_max       10398\n",
      "1            CARD_TYPE_EX       10093\n",
      "25  outNums_ID_w_h_2_mean        9612\n",
      "10       inNums_ID_w_mean        9606\n",
      "11        inNums_ID_w_sum        9003\n",
      "21         outNums_ID_sum        4157\n",
      "20        outNums_ID_mean        2674\n",
      "27   outNums_ID_w_h_5_max        1053\n",
      "24   outNums_ID_w_h_2_max         476\n",
      "28   outNums_ID_w_h_5_min         351\n",
      "19         outNums_ID_max         137\n"
     ]
    }
   ],
   "source": [
    "features=train_in.columns\n",
    "feature_rank=gbm.feature_importance()\n",
    "features_df=pd.DataFrame({ 'column':features,'importance': feature_rank}).sort_values(by='importance', ascending=False)\n",
    "print(features_df)"
   ]
  },
  {
   "cell_type": "code",
   "execution_count": null,
   "metadata": {},
   "outputs": [],
   "source": []
  }
 ],
 "metadata": {
  "kernelspec": {
   "display_name": "Python 3",
   "language": "python",
   "name": "python3"
  },
  "language_info": {
   "codemirror_mode": {
    "name": "ipython",
    "version": 3
   },
   "file_extension": ".py",
   "mimetype": "text/x-python",
   "name": "python",
   "nbconvert_exporter": "python",
   "pygments_lexer": "ipython3",
   "version": "3.6.5"
  }
 },
 "nbformat": 4,
 "nbformat_minor": 2
}
