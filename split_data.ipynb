{
 "cells": [
  {
   "cell_type": "code",
   "execution_count": 38,
   "metadata": {},
   "outputs": [],
   "source": [
    "import pandas as pd\n",
    "import os\n",
    "pd.options.display.max_columns = None"
   ]
  },
  {
   "cell_type": "code",
   "execution_count": 39,
   "metadata": {},
   "outputs": [
    {
     "name": "stderr",
     "output_type": "stream",
     "text": [
      "D:\\Anaconda\\lib\\site-packages\\IPython\\core\\interactiveshell.py:2785: DtypeWarning: Columns (2) have mixed types. Specify dtype option on import or set low_memory=False.\n",
      "  interactivity=interactivity, compiler=compiler, result=result)\n"
     ]
    }
   ],
   "source": [
    "data = pd.read_csv('data.csv')"
   ]
  },
  {
   "cell_type": "code",
   "execution_count": 40,
   "metadata": {},
   "outputs": [],
   "source": [
    "data['date'] = data.START_DATE.apply(lambda x: x[:10])"
   ]
  },
  {
   "cell_type": "code",
   "execution_count": 41,
   "metadata": {},
   "outputs": [],
   "source": [
    "data.date = pd.to_datetime(data.date)"
   ]
  },
  {
   "cell_type": "code",
   "execution_count": 44,
   "metadata": {},
   "outputs": [],
   "source": [
    "begin_list = ['2015-8-4',\n",
    "     '2015-8-11',\n",
    "     '2015-8-18',\n",
    "     '2015-8-25',\n",
    "     '2015-9-1',\n",
    "     '2015-9-8',\n",
    "     '2015-9-15',\n",
    "     '2015-9-22',\n",
    "     '2015-9-29',\n",
    "     '2015-10-6',\n",
    "     '2015-10-13',\n",
    "     '2015-10-20',\n",
    "     '2015-10-27',\n",
    "     '2015-11-3',\n",
    "     '2015-11-10',\n",
    "     '2015-11-17',\n",
    "     '2015-11-24',]\n",
    "end_list = ['2015-8-10',\n",
    "     '2015-8-17',\n",
    "     '2015-8-24',\n",
    "     '2015-8-31',\n",
    "     '2015-9-7',\n",
    "     '2015-9-14',\n",
    "     '2015-9-21',\n",
    "     '2015-9-28',\n",
    "     '2015-10-5',\n",
    "     '2015-10-12',\n",
    "     '2015-10-19',\n",
    "     '2015-10-26',\n",
    "     '2015-11-2',\n",
    "     '2015-11-9',\n",
    "     '2015-11-16',\n",
    "     '2015-11-23',\n",
    "     '2015-11-30']"
   ]
  },
  {
   "cell_type": "code",
   "execution_count": 49,
   "metadata": {},
   "outputs": [],
   "source": [
    "path = './'\n",
    "os.makedirs(path+'dataofweek')"
   ]
  },
  {
   "cell_type": "code",
   "execution_count": 51,
   "metadata": {},
   "outputs": [],
   "source": [
    "data_path = './dataofweek/'"
   ]
  },
  {
   "cell_type": "code",
   "execution_count": 52,
   "metadata": {},
   "outputs": [],
   "source": [
    "for i in range(17):\n",
    "    every_week = data[(data.date>=begin_list[i])&(data.date<=end_list[i])]\n",
    "    \n",
    "    every_week.to_csv(data_path+str(i+1)+'_week.csv',encoding='utf-8',index=False)"
   ]
  },
  {
   "cell_type": "code",
   "execution_count": null,
   "metadata": {},
   "outputs": [],
   "source": []
  }
 ],
 "metadata": {
  "kernelspec": {
   "display_name": "Python 3",
   "language": "python",
   "name": "python3"
  },
  "language_info": {
   "codemirror_mode": {
    "name": "ipython",
    "version": 3
   },
   "file_extension": ".py",
   "mimetype": "text/x-python",
   "name": "python",
   "nbconvert_exporter": "python",
   "pygments_lexer": "ipython3",
   "version": "3.6.5"
  }
 },
 "nbformat": 4,
 "nbformat_minor": 2
}
